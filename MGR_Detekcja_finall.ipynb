{
  "nbformat": 4,
  "nbformat_minor": 0,
  "metadata": {
    "colab": {
      "name": "MGR_Detekcja_finall.ipynb",
      "provenance": [],
      "collapsed_sections": [
        "7kRDNXwHBtRc",
        "-zXYkJJQUxgw",
        "1XaHqBSyU4nK"
      ],
      "toc_visible": true
    },
    "kernelspec": {
      "name": "python3",
      "display_name": "Python 3"
    },
    "accelerator": "GPU"
  },
  "cells": [
    {
      "cell_type": "markdown",
      "metadata": {
        "id": "q72V4zFEVG4n",
        "colab_type": "text"
      },
      "source": [
        "# Detekcja i lokalizacja\n",
        "## Inicjalizacja srodowiska\n"
      ]
    },
    {
      "cell_type": "code",
      "metadata": {
        "id": "MEk7652XVFqH",
        "colab_type": "code",
        "outputId": "7fc8d7f9-b1e8-4133-e0da-1112c633395f",
        "colab": {
          "base_uri": "https://localhost:8080/",
          "height": 211
        }
      },
      "source": [
        "#!apt-get install -y -qq software-properties-common python-software-properties module-init-tools\n",
        "!apt-get install -y -qq software-properties-common module-init-tools\n",
        "!add-apt-repository -y ppa:alessandro-strada/ppa 2>&1 > /dev/null\n",
        "!apt-get update -qq 2>&1 > /dev/null\n",
        "!apt-get -y install -qq google-drive-ocamlfuse fuse\n",
        "from google.colab import auth\n",
        "auth.authenticate_user()\n",
        "from oauth2client.client import GoogleCredentials\n",
        "creds = GoogleCredentials.get_application_default()\n",
        "import getpass\n",
        "!google-drive-ocamlfuse -headless -id={creds.client_id} -secret={creds.client_secret} < /dev/null 2>&1 | grep URL\n",
        "vcode = getpass.getpass()\n",
        "!echo {vcode} | google-drive-ocamlfuse -headless -id={creds.client_id} -secret={creds.client_secret}"
      ],
      "execution_count": 0,
      "outputs": [
        {
          "output_type": "stream",
          "text": [
            "Selecting previously unselected package google-drive-ocamlfuse.\n",
            "(Reading database ... \r(Reading database ... 5%\r(Reading database ... 10%\r(Reading database ... 15%\r(Reading database ... 20%\r(Reading database ... 25%\r(Reading database ... 30%\r(Reading database ... 35%\r(Reading database ... 40%\r(Reading database ... 45%\r(Reading database ... 50%\r(Reading database ... 55%\r(Reading database ... 60%\r(Reading database ... 65%\r(Reading database ... 70%\r(Reading database ... 75%\r(Reading database ... 80%\r(Reading database ... 85%\r(Reading database ... 90%\r(Reading database ... 95%\r(Reading database ... 100%\r(Reading database ... 132684 files and directories currently installed.)\n",
            "Preparing to unpack .../google-drive-ocamlfuse_0.7.13-0ubuntu1~ubuntu18.04.1_amd64.deb ...\n",
            "Unpacking google-drive-ocamlfuse (0.7.13-0ubuntu1~ubuntu18.04.1) ...\n",
            "Setting up google-drive-ocamlfuse (0.7.13-0ubuntu1~ubuntu18.04.1) ...\n",
            "Processing triggers for man-db (2.8.3-2ubuntu0.1) ...\n",
            "Please, open the following URL in a web browser: https://accounts.google.com/o/oauth2/auth?client_id=32555940559.apps.googleusercontent.com&redirect_uri=urn%3Aietf%3Awg%3Aoauth%3A2.0%3Aoob&scope=https%3A%2F%2Fwww.googleapis.com%2Fauth%2Fdrive&response_type=code&access_type=offline&approval_prompt=force\n",
            "··········\n",
            "Please, open the following URL in a web browser: https://accounts.google.com/o/oauth2/auth?client_id=32555940559.apps.googleusercontent.com&redirect_uri=urn%3Aietf%3Awg%3Aoauth%3A2.0%3Aoob&scope=https%3A%2F%2Fwww.googleapis.com%2Fauth%2Fdrive&response_type=code&access_type=offline&approval_prompt=force\n",
            "Please enter the verification code: Access token retrieved correctly.\n"
          ],
          "name": "stdout"
        }
      ]
    },
    {
      "cell_type": "markdown",
      "metadata": {
        "id": "dtOrKm4VVPFW",
        "colab_type": "text"
      },
      "source": [
        "## Mapowanie dysku GDrive do Colab Local storage"
      ]
    },
    {
      "cell_type": "code",
      "metadata": {
        "id": "K4t4mdmBVPZF",
        "colab_type": "code",
        "outputId": "66b141df-9af2-46d6-8b44-fa114ab8f2e0",
        "colab": {
          "base_uri": "https://localhost:8080/",
          "height": 34
        }
      },
      "source": [
        "!mkdir -p gdrive\n",
        "!google-drive-ocamlfuse gdrive\n",
        "\n",
        "import warnings\n",
        "warnings.filterwarnings(\"ignore\")\n",
        "\n",
        "print(\"Done!\")"
      ],
      "execution_count": 0,
      "outputs": [
        {
          "output_type": "stream",
          "text": [
            "Done!\n"
          ],
          "name": "stdout"
        }
      ]
    },
    {
      "cell_type": "markdown",
      "metadata": {
        "id": "3go6DEP7VW6D",
        "colab_type": "text"
      },
      "source": [
        "## Klonowanie Mask R-CNN \n",
        "  "
      ]
    },
    {
      "cell_type": "code",
      "metadata": {
        "id": "EcdG20EfVXGo",
        "colab_type": "code",
        "outputId": "f0fda471-8d33-4a45-81af-b20483a5feb2",
        "colab": {
          "base_uri": "https://localhost:8080/",
          "height": 1000
        }
      },
      "source": [
        "!git clone https://github.com/matterport/Mask_RCNN.git \n",
        "\n",
        "import os,sys\n",
        "\n",
        "# Root directory of the project\n",
        "ROOT_DIR = os.path.abspath(\"/content/Mask_RCNN/\")\n",
        "MGR_RCNN = os.path.abspath('/content/gdrive/MGR_RCNN/')\n",
        "\n",
        "# Import Mask RCNN\n",
        "sys.path.append(ROOT_DIR)  # To find local version of the library\n",
        "sys.path.append(MGR_RCNN)\n",
        "\n",
        "%cd Mask_RCNN\n",
        "!pip3 install -r requirements.txt\n",
        "!python setup.py install"
      ],
      "execution_count": 0,
      "outputs": [
        {
          "output_type": "stream",
          "text": [
            "Cloning into 'Mask_RCNN'...\n",
            "remote: Enumerating objects: 956, done.\u001b[K\n",
            "remote: Total 956 (delta 0), reused 0 (delta 0), pack-reused 956\n",
            "Receiving objects: 100% (956/956), 111.81 MiB | 11.24 MiB/s, done.\n",
            "Resolving deltas: 100% (571/571), done.\n",
            "/content/Mask_RCNN\n",
            "Requirement already satisfied: numpy in /usr/local/lib/python3.6/dist-packages (from -r requirements.txt (line 1)) (1.17.3)\n",
            "Requirement already satisfied: scipy in /usr/local/lib/python3.6/dist-packages (from -r requirements.txt (line 2)) (1.3.1)\n",
            "Requirement already satisfied: Pillow in /usr/local/lib/python3.6/dist-packages (from -r requirements.txt (line 3)) (4.3.0)\n",
            "Requirement already satisfied: cython in /usr/local/lib/python3.6/dist-packages (from -r requirements.txt (line 4)) (0.29.13)\n",
            "Requirement already satisfied: matplotlib in /usr/local/lib/python3.6/dist-packages (from -r requirements.txt (line 5)) (3.1.1)\n",
            "Requirement already satisfied: scikit-image in /usr/local/lib/python3.6/dist-packages (from -r requirements.txt (line 6)) (0.15.0)\n",
            "Requirement already satisfied: tensorflow>=1.3.0 in /usr/local/lib/python3.6/dist-packages (from -r requirements.txt (line 7)) (1.15.0)\n",
            "Requirement already satisfied: keras>=2.0.8 in /usr/local/lib/python3.6/dist-packages (from -r requirements.txt (line 8)) (2.2.5)\n",
            "Requirement already satisfied: opencv-python in /usr/local/lib/python3.6/dist-packages (from -r requirements.txt (line 9)) (3.4.7.28)\n",
            "Requirement already satisfied: h5py in /usr/local/lib/python3.6/dist-packages (from -r requirements.txt (line 10)) (2.8.0)\n",
            "Requirement already satisfied: imgaug in /usr/local/lib/python3.6/dist-packages (from -r requirements.txt (line 11)) (0.2.9)\n",
            "Requirement already satisfied: IPython[all] in /usr/local/lib/python3.6/dist-packages (from -r requirements.txt (line 12)) (5.5.0)\n",
            "Requirement already satisfied: olefile in /usr/local/lib/python3.6/dist-packages (from Pillow->-r requirements.txt (line 3)) (0.46)\n",
            "Requirement already satisfied: python-dateutil>=2.1 in /usr/local/lib/python3.6/dist-packages (from matplotlib->-r requirements.txt (line 5)) (2.6.1)\n",
            "Requirement already satisfied: pyparsing!=2.0.4,!=2.1.2,!=2.1.6,>=2.0.1 in /usr/local/lib/python3.6/dist-packages (from matplotlib->-r requirements.txt (line 5)) (2.4.2)\n",
            "Requirement already satisfied: cycler>=0.10 in /usr/local/lib/python3.6/dist-packages (from matplotlib->-r requirements.txt (line 5)) (0.10.0)\n",
            "Requirement already satisfied: kiwisolver>=1.0.1 in /usr/local/lib/python3.6/dist-packages (from matplotlib->-r requirements.txt (line 5)) (1.1.0)\n",
            "Requirement already satisfied: networkx>=2.0 in /usr/local/lib/python3.6/dist-packages (from scikit-image->-r requirements.txt (line 6)) (2.4)\n",
            "Requirement already satisfied: imageio>=2.0.1 in /usr/local/lib/python3.6/dist-packages (from scikit-image->-r requirements.txt (line 6)) (2.4.1)\n",
            "Requirement already satisfied: PyWavelets>=0.4.0 in /usr/local/lib/python3.6/dist-packages (from scikit-image->-r requirements.txt (line 6)) (1.1.1)\n",
            "Requirement already satisfied: tensorboard<1.16.0,>=1.15.0 in /usr/local/lib/python3.6/dist-packages (from tensorflow>=1.3.0->-r requirements.txt (line 7)) (1.15.0)\n",
            "Requirement already satisfied: wheel>=0.26 in /usr/local/lib/python3.6/dist-packages (from tensorflow>=1.3.0->-r requirements.txt (line 7)) (0.33.6)\n",
            "Requirement already satisfied: keras-applications>=1.0.8 in /usr/local/lib/python3.6/dist-packages (from tensorflow>=1.3.0->-r requirements.txt (line 7)) (1.0.8)\n",
            "Requirement already satisfied: keras-preprocessing>=1.0.5 in /usr/local/lib/python3.6/dist-packages (from tensorflow>=1.3.0->-r requirements.txt (line 7)) (1.1.0)\n",
            "Requirement already satisfied: wrapt>=1.11.1 in /usr/local/lib/python3.6/dist-packages (from tensorflow>=1.3.0->-r requirements.txt (line 7)) (1.11.2)\n",
            "Requirement already satisfied: google-pasta>=0.1.6 in /usr/local/lib/python3.6/dist-packages (from tensorflow>=1.3.0->-r requirements.txt (line 7)) (0.1.7)\n",
            "Requirement already satisfied: protobuf>=3.6.1 in /usr/local/lib/python3.6/dist-packages (from tensorflow>=1.3.0->-r requirements.txt (line 7)) (3.10.0)\n",
            "Requirement already satisfied: astor>=0.6.0 in /usr/local/lib/python3.6/dist-packages (from tensorflow>=1.3.0->-r requirements.txt (line 7)) (0.8.0)\n",
            "Requirement already satisfied: grpcio>=1.8.6 in /usr/local/lib/python3.6/dist-packages (from tensorflow>=1.3.0->-r requirements.txt (line 7)) (1.15.0)\n",
            "Requirement already satisfied: six>=1.10.0 in /usr/local/lib/python3.6/dist-packages (from tensorflow>=1.3.0->-r requirements.txt (line 7)) (1.12.0)\n",
            "Requirement already satisfied: tensorflow-estimator==1.15.1 in /usr/local/lib/python3.6/dist-packages (from tensorflow>=1.3.0->-r requirements.txt (line 7)) (1.15.1)\n",
            "Requirement already satisfied: gast==0.2.2 in /usr/local/lib/python3.6/dist-packages (from tensorflow>=1.3.0->-r requirements.txt (line 7)) (0.2.2)\n",
            "Requirement already satisfied: absl-py>=0.7.0 in /usr/local/lib/python3.6/dist-packages (from tensorflow>=1.3.0->-r requirements.txt (line 7)) (0.8.1)\n",
            "Requirement already satisfied: termcolor>=1.1.0 in /usr/local/lib/python3.6/dist-packages (from tensorflow>=1.3.0->-r requirements.txt (line 7)) (1.1.0)\n",
            "Requirement already satisfied: opt-einsum>=2.3.2 in /usr/local/lib/python3.6/dist-packages (from tensorflow>=1.3.0->-r requirements.txt (line 7)) (3.1.0)\n",
            "Requirement already satisfied: pyyaml in /usr/local/lib/python3.6/dist-packages (from keras>=2.0.8->-r requirements.txt (line 8)) (3.13)\n",
            "Requirement already satisfied: Shapely in /usr/local/lib/python3.6/dist-packages (from imgaug->-r requirements.txt (line 11)) (1.6.4.post2)\n",
            "Requirement already satisfied: decorator in /usr/local/lib/python3.6/dist-packages (from IPython[all]->-r requirements.txt (line 12)) (4.4.1)\n",
            "Requirement already satisfied: traitlets>=4.2 in /usr/local/lib/python3.6/dist-packages (from IPython[all]->-r requirements.txt (line 12)) (4.3.3)\n",
            "Requirement already satisfied: pexpect; sys_platform != \"win32\" in /usr/local/lib/python3.6/dist-packages (from IPython[all]->-r requirements.txt (line 12)) (4.7.0)\n",
            "Requirement already satisfied: setuptools>=18.5 in /usr/local/lib/python3.6/dist-packages (from IPython[all]->-r requirements.txt (line 12)) (41.4.0)\n",
            "Requirement already satisfied: simplegeneric>0.8 in /usr/local/lib/python3.6/dist-packages (from IPython[all]->-r requirements.txt (line 12)) (0.8.1)\n",
            "Requirement already satisfied: pickleshare in /usr/local/lib/python3.6/dist-packages (from IPython[all]->-r requirements.txt (line 12)) (0.7.5)\n",
            "Requirement already satisfied: pygments in /usr/local/lib/python3.6/dist-packages (from IPython[all]->-r requirements.txt (line 12)) (2.1.3)\n",
            "Requirement already satisfied: prompt-toolkit<2.0.0,>=1.0.4 in /usr/local/lib/python3.6/dist-packages (from IPython[all]->-r requirements.txt (line 12)) (1.0.18)\n",
            "Requirement already satisfied: ipykernel; extra == \"all\" in /usr/local/lib/python3.6/dist-packages (from IPython[all]->-r requirements.txt (line 12)) (4.6.1)\n",
            "Requirement already satisfied: nbformat; extra == \"all\" in /usr/local/lib/python3.6/dist-packages (from IPython[all]->-r requirements.txt (line 12)) (4.4.0)\n",
            "Requirement already satisfied: testpath; extra == \"all\" in /usr/local/lib/python3.6/dist-packages (from IPython[all]->-r requirements.txt (line 12)) (0.4.2)\n",
            "Requirement already satisfied: Sphinx>=1.3; extra == \"all\" in /usr/local/lib/python3.6/dist-packages (from IPython[all]->-r requirements.txt (line 12)) (1.8.5)\n",
            "Collecting ipyparallel; extra == \"all\"\n",
            "\u001b[?25l  Downloading https://files.pythonhosted.org/packages/3f/82/aaa7a357845a98d4028f27c799f0d3bb2fe55fc1247c73dc712b4ae2344c/ipyparallel-6.2.4-py2.py3-none-any.whl (198kB)\n",
            "\u001b[K     |████████████████████████████████| 204kB 2.8MB/s \n",
            "\u001b[?25hRequirement already satisfied: nbconvert; extra == \"all\" in /usr/local/lib/python3.6/dist-packages (from IPython[all]->-r requirements.txt (line 12)) (5.6.1)\n",
            "Collecting nose>=0.10.1; extra == \"all\"\n",
            "\u001b[?25l  Downloading https://files.pythonhosted.org/packages/15/d8/dd071918c040f50fa1cf80da16423af51ff8ce4a0f2399b7bf8de45ac3d9/nose-1.3.7-py3-none-any.whl (154kB)\n",
            "\u001b[K     |████████████████████████████████| 163kB 55.2MB/s \n",
            "\u001b[?25hRequirement already satisfied: qtconsole; extra == \"all\" in /usr/local/lib/python3.6/dist-packages (from IPython[all]->-r requirements.txt (line 12)) (4.5.5)\n",
            "Requirement already satisfied: requests; extra == \"all\" in /usr/local/lib/python3.6/dist-packages (from IPython[all]->-r requirements.txt (line 12)) (2.21.0)\n",
            "Requirement already satisfied: ipywidgets; extra == \"all\" in /usr/local/lib/python3.6/dist-packages (from IPython[all]->-r requirements.txt (line 12)) (7.5.1)\n",
            "Requirement already satisfied: notebook; extra == \"all\" in /usr/local/lib/python3.6/dist-packages (from IPython[all]->-r requirements.txt (line 12)) (5.2.2)\n",
            "Requirement already satisfied: markdown>=2.6.8 in /usr/local/lib/python3.6/dist-packages (from tensorboard<1.16.0,>=1.15.0->tensorflow>=1.3.0->-r requirements.txt (line 7)) (3.1.1)\n",
            "Requirement already satisfied: werkzeug>=0.11.15 in /usr/local/lib/python3.6/dist-packages (from tensorboard<1.16.0,>=1.15.0->tensorflow>=1.3.0->-r requirements.txt (line 7)) (0.16.0)\n",
            "Requirement already satisfied: ipython-genutils in /usr/local/lib/python3.6/dist-packages (from traitlets>=4.2->IPython[all]->-r requirements.txt (line 12)) (0.2.0)\n",
            "Requirement already satisfied: ptyprocess>=0.5 in /usr/local/lib/python3.6/dist-packages (from pexpect; sys_platform != \"win32\"->IPython[all]->-r requirements.txt (line 12)) (0.6.0)\n",
            "Requirement already satisfied: wcwidth in /usr/local/lib/python3.6/dist-packages (from prompt-toolkit<2.0.0,>=1.0.4->IPython[all]->-r requirements.txt (line 12)) (0.1.7)\n",
            "Requirement already satisfied: jupyter-client in /usr/local/lib/python3.6/dist-packages (from ipykernel; extra == \"all\"->IPython[all]->-r requirements.txt (line 12)) (5.3.4)\n",
            "Requirement already satisfied: tornado>=4.0 in /usr/local/lib/python3.6/dist-packages (from ipykernel; extra == \"all\"->IPython[all]->-r requirements.txt (line 12)) (4.5.3)\n",
            "Requirement already satisfied: jupyter-core in /usr/local/lib/python3.6/dist-packages (from nbformat; extra == \"all\"->IPython[all]->-r requirements.txt (line 12)) (4.6.1)\n",
            "Requirement already satisfied: jsonschema!=2.5.0,>=2.4 in /usr/local/lib/python3.6/dist-packages (from nbformat; extra == \"all\"->IPython[all]->-r requirements.txt (line 12)) (2.6.0)\n",
            "Requirement already satisfied: packaging in /usr/local/lib/python3.6/dist-packages (from Sphinx>=1.3; extra == \"all\"->IPython[all]->-r requirements.txt (line 12)) (19.2)\n",
            "Requirement already satisfied: alabaster<0.8,>=0.7 in /usr/local/lib/python3.6/dist-packages (from Sphinx>=1.3; extra == \"all\"->IPython[all]->-r requirements.txt (line 12)) (0.7.12)\n",
            "Requirement already satisfied: Jinja2>=2.3 in /usr/local/lib/python3.6/dist-packages (from Sphinx>=1.3; extra == \"all\"->IPython[all]->-r requirements.txt (line 12)) (2.10.3)\n",
            "Requirement already satisfied: babel!=2.0,>=1.3 in /usr/local/lib/python3.6/dist-packages (from Sphinx>=1.3; extra == \"all\"->IPython[all]->-r requirements.txt (line 12)) (2.7.0)\n",
            "Requirement already satisfied: imagesize in /usr/local/lib/python3.6/dist-packages (from Sphinx>=1.3; extra == \"all\"->IPython[all]->-r requirements.txt (line 12)) (1.1.0)\n",
            "Requirement already satisfied: docutils>=0.11 in /usr/local/lib/python3.6/dist-packages (from Sphinx>=1.3; extra == \"all\"->IPython[all]->-r requirements.txt (line 12)) (0.15.2)\n",
            "Requirement already satisfied: sphinxcontrib-websupport in /usr/local/lib/python3.6/dist-packages (from Sphinx>=1.3; extra == \"all\"->IPython[all]->-r requirements.txt (line 12)) (1.1.2)\n",
            "Requirement already satisfied: snowballstemmer>=1.1 in /usr/local/lib/python3.6/dist-packages (from Sphinx>=1.3; extra == \"all\"->IPython[all]->-r requirements.txt (line 12)) (2.0.0)\n",
            "Requirement already satisfied: pyzmq>=13 in /usr/local/lib/python3.6/dist-packages (from ipyparallel; extra == \"all\"->IPython[all]->-r requirements.txt (line 12)) (17.0.0)\n",
            "Requirement already satisfied: entrypoints>=0.2.2 in /usr/local/lib/python3.6/dist-packages (from nbconvert; extra == \"all\"->IPython[all]->-r requirements.txt (line 12)) (0.3)\n",
            "Requirement already satisfied: defusedxml in /usr/local/lib/python3.6/dist-packages (from nbconvert; extra == \"all\"->IPython[all]->-r requirements.txt (line 12)) (0.6.0)\n",
            "Requirement already satisfied: pandocfilters>=1.4.1 in /usr/local/lib/python3.6/dist-packages (from nbconvert; extra == \"all\"->IPython[all]->-r requirements.txt (line 12)) (1.4.2)\n",
            "Requirement already satisfied: mistune<2,>=0.8.1 in /usr/local/lib/python3.6/dist-packages (from nbconvert; extra == \"all\"->IPython[all]->-r requirements.txt (line 12)) (0.8.4)\n",
            "Requirement already satisfied: bleach in /usr/local/lib/python3.6/dist-packages (from nbconvert; extra == \"all\"->IPython[all]->-r requirements.txt (line 12)) (3.1.0)\n",
            "Requirement already satisfied: idna<2.9,>=2.5 in /usr/local/lib/python3.6/dist-packages (from requests; extra == \"all\"->IPython[all]->-r requirements.txt (line 12)) (2.8)\n",
            "Requirement already satisfied: chardet<3.1.0,>=3.0.2 in /usr/local/lib/python3.6/dist-packages (from requests; extra == \"all\"->IPython[all]->-r requirements.txt (line 12)) (3.0.4)\n",
            "Requirement already satisfied: certifi>=2017.4.17 in /usr/local/lib/python3.6/dist-packages (from requests; extra == \"all\"->IPython[all]->-r requirements.txt (line 12)) (2019.9.11)\n",
            "Requirement already satisfied: urllib3<1.25,>=1.21.1 in /usr/local/lib/python3.6/dist-packages (from requests; extra == \"all\"->IPython[all]->-r requirements.txt (line 12)) (1.24.3)\n",
            "Requirement already satisfied: widgetsnbextension~=3.5.0 in /usr/local/lib/python3.6/dist-packages (from ipywidgets; extra == \"all\"->IPython[all]->-r requirements.txt (line 12)) (3.5.1)\n",
            "Requirement already satisfied: terminado>=0.3.3; sys_platform != \"win32\" in /usr/local/lib/python3.6/dist-packages (from notebook; extra == \"all\"->IPython[all]->-r requirements.txt (line 12)) (0.8.2)\n",
            "Requirement already satisfied: MarkupSafe>=0.23 in /usr/local/lib/python3.6/dist-packages (from Jinja2>=2.3->Sphinx>=1.3; extra == \"all\"->IPython[all]->-r requirements.txt (line 12)) (1.1.1)\n",
            "Requirement already satisfied: pytz>=2015.7 in /usr/local/lib/python3.6/dist-packages (from babel!=2.0,>=1.3->Sphinx>=1.3; extra == \"all\"->IPython[all]->-r requirements.txt (line 12)) (2018.9)\n",
            "Requirement already satisfied: webencodings in /usr/local/lib/python3.6/dist-packages (from bleach->nbconvert; extra == \"all\"->IPython[all]->-r requirements.txt (line 12)) (0.5.1)\n",
            "Installing collected packages: ipyparallel, nose\n",
            "Successfully installed ipyparallel-6.2.4 nose-1.3.7\n",
            "WARNING:root:Fail load requirements file, so using default ones.\n",
            "running install\n",
            "running bdist_egg\n",
            "running egg_info\n",
            "creating mask_rcnn.egg-info\n",
            "writing mask_rcnn.egg-info/PKG-INFO\n",
            "writing dependency_links to mask_rcnn.egg-info/dependency_links.txt\n",
            "writing top-level names to mask_rcnn.egg-info/top_level.txt\n",
            "writing manifest file 'mask_rcnn.egg-info/SOURCES.txt'\n",
            "reading manifest template 'MANIFEST.in'\n",
            "writing manifest file 'mask_rcnn.egg-info/SOURCES.txt'\n",
            "installing library code to build/bdist.linux-x86_64/egg\n",
            "running install_lib\n",
            "running build_py\n",
            "creating build\n",
            "creating build/lib\n",
            "creating build/lib/mrcnn\n",
            "copying mrcnn/model.py -> build/lib/mrcnn\n",
            "copying mrcnn/parallel_model.py -> build/lib/mrcnn\n",
            "copying mrcnn/utils.py -> build/lib/mrcnn\n",
            "copying mrcnn/visualize.py -> build/lib/mrcnn\n",
            "copying mrcnn/config.py -> build/lib/mrcnn\n",
            "copying mrcnn/__init__.py -> build/lib/mrcnn\n",
            "creating build/bdist.linux-x86_64\n",
            "creating build/bdist.linux-x86_64/egg\n",
            "creating build/bdist.linux-x86_64/egg/mrcnn\n",
            "copying build/lib/mrcnn/model.py -> build/bdist.linux-x86_64/egg/mrcnn\n",
            "copying build/lib/mrcnn/parallel_model.py -> build/bdist.linux-x86_64/egg/mrcnn\n",
            "copying build/lib/mrcnn/utils.py -> build/bdist.linux-x86_64/egg/mrcnn\n",
            "copying build/lib/mrcnn/visualize.py -> build/bdist.linux-x86_64/egg/mrcnn\n",
            "copying build/lib/mrcnn/config.py -> build/bdist.linux-x86_64/egg/mrcnn\n",
            "copying build/lib/mrcnn/__init__.py -> build/bdist.linux-x86_64/egg/mrcnn\n",
            "byte-compiling build/bdist.linux-x86_64/egg/mrcnn/model.py to model.cpython-36.pyc\n",
            "byte-compiling build/bdist.linux-x86_64/egg/mrcnn/parallel_model.py to parallel_model.cpython-36.pyc\n",
            "byte-compiling build/bdist.linux-x86_64/egg/mrcnn/utils.py to utils.cpython-36.pyc\n",
            "byte-compiling build/bdist.linux-x86_64/egg/mrcnn/visualize.py to visualize.cpython-36.pyc\n",
            "byte-compiling build/bdist.linux-x86_64/egg/mrcnn/config.py to config.cpython-36.pyc\n",
            "byte-compiling build/bdist.linux-x86_64/egg/mrcnn/__init__.py to __init__.cpython-36.pyc\n",
            "creating build/bdist.linux-x86_64/egg/EGG-INFO\n",
            "copying mask_rcnn.egg-info/PKG-INFO -> build/bdist.linux-x86_64/egg/EGG-INFO\n",
            "copying mask_rcnn.egg-info/SOURCES.txt -> build/bdist.linux-x86_64/egg/EGG-INFO\n",
            "copying mask_rcnn.egg-info/dependency_links.txt -> build/bdist.linux-x86_64/egg/EGG-INFO\n",
            "copying mask_rcnn.egg-info/top_level.txt -> build/bdist.linux-x86_64/egg/EGG-INFO\n",
            "zip_safe flag not set; analyzing archive contents...\n",
            "creating dist\n",
            "creating 'dist/mask_rcnn-2.1-py3.6.egg' and adding 'build/bdist.linux-x86_64/egg' to it\n",
            "removing 'build/bdist.linux-x86_64/egg' (and everything under it)\n",
            "Processing mask_rcnn-2.1-py3.6.egg\n",
            "Copying mask_rcnn-2.1-py3.6.egg to /usr/local/lib/python3.6/dist-packages\n",
            "Adding mask-rcnn 2.1 to easy-install.pth file\n",
            "\n",
            "Installed /usr/local/lib/python3.6/dist-packages/mask_rcnn-2.1-py3.6.egg\n",
            "Processing dependencies for mask-rcnn==2.1\n",
            "Finished processing dependencies for mask-rcnn==2.1\n"
          ],
          "name": "stdout"
        }
      ]
    },
    {
      "cell_type": "markdown",
      "metadata": {
        "id": "kEHbvtJIVmhV",
        "colab_type": "text"
      },
      "source": [
        "## Tworzenie srodowiska klasyfikacji\n",
        "Wraz z kopiowaniem wytrenowanej sieci do katalogow lokalnych"
      ]
    },
    {
      "cell_type": "code",
      "metadata": {
        "id": "r9zHs594W_7j",
        "colab_type": "code",
        "outputId": "58b6a9c0-cf32-40e7-ccaf-0dd1ff291d19",
        "colab": {
          "base_uri": "https://localhost:8080/",
          "height": 69
        }
      },
      "source": [
        "!mkdir samples/znaki\n",
        "#!rm /content/Mask_RCNN/samples/znaki/znaki.py\n",
        "!cp /content/gdrive/MGR_RCNN/ZNAKI/znaki.py /content/Mask_RCNN/samples/znaki/znaki.py\n",
        "#!ls -l /content/Mask_RCNN/samples/znaki/"
      ],
      "execution_count": 0,
      "outputs": [
        {
          "output_type": "stream",
          "text": [
            "rm: cannot remove '/content/Mask_RCNN/samples/znaki/znaki.py': No such file or directory\n",
            "total 20\n",
            "-rw-r--r-- 1 root root 20424 Nov  9 18:40 znaki.py\n"
          ],
          "name": "stdout"
        }
      ]
    },
    {
      "cell_type": "markdown",
      "metadata": {
        "id": "zHdAssHn9YAV",
        "colab_type": "text"
      },
      "source": [
        "## Definiowanie srodowiska (zmienne srodowiskowe i biblioteki)"
      ]
    },
    {
      "cell_type": "code",
      "metadata": {
        "id": "-Gtel9T3Vmoc",
        "colab_type": "code",
        "outputId": "92545980-f190-4a3c-99ac-1e21fb68c926",
        "colab": {
          "base_uri": "https://localhost:8080/",
          "height": 98
        }
      },
      "source": [
        "%cd /content/Mask_RCNN\n",
        "import os\n",
        "import sys\n",
        "import random\n",
        "import math\n",
        "import re\n",
        "import time\n",
        "import numpy as np\n",
        "import tensorflow as tf\n",
        "import matplotlib\n",
        "import matplotlib.pyplot as plt\n",
        "import matplotlib.patches as patches\n",
        "\n",
        "\n",
        "import skimage.io\n",
        "\n",
        "\n",
        "# Root directory of the project\n",
        "ROOT_DIR = os.path.abspath(\"/content/Mask_RCNN\")\n",
        "\n",
        "# Import Mask RCNN\n",
        "sys.path.append(ROOT_DIR)  # To find local version of the library\n",
        "from mrcnn import utils\n",
        "from mrcnn import visualize\n",
        "from mrcnn.visualize import display_images\n",
        "import mrcnn.model as modellib\n",
        "from mrcnn.model import log\n",
        "#import mrcnn.config as config\n",
        "\n",
        "ZNAKI_WEIGHTS_PATH = \"/content/gdrive/MGR_RCNN/COCO/logs/znaki20190708T2020/mask_rcnn_znaki_0160.h5\"\n",
        "WEIGHTS_PATH = \"/content/gdrive/MGR_RCNN/COCO/logs/znaki20190708T2020/\""
      ],
      "execution_count": 0,
      "outputs": [
        {
          "output_type": "stream",
          "text": [
            "/content/Mask_RCNN\n"
          ],
          "name": "stdout"
        },
        {
          "output_type": "display_data",
          "data": {
            "text/html": [
              "<p style=\"color: red;\">\n",
              "The default version of TensorFlow in Colab will soon switch to TensorFlow 2.x.<br>\n",
              "We recommend you <a href=\"https://www.tensorflow.org/guide/migrate\" target=\"_blank\">upgrade</a> now \n",
              "or ensure your notebook will continue to use TensorFlow 1.x via the <code>%tensorflow_version 1.x</code> magic:\n",
              "<a href=\"https://colab.research.google.com/notebooks/tensorflow_version.ipynb\" target=\"_blank\">more info</a>.</p>\n"
            ],
            "text/plain": [
              "<IPython.core.display.HTML object>"
            ]
          },
          "metadata": {
            "tags": []
          }
        },
        {
          "output_type": "stream",
          "text": [
            "Using TensorFlow backend.\n"
          ],
          "name": "stderr"
        }
      ]
    },
    {
      "cell_type": "markdown",
      "metadata": {
        "id": "wdEn3lXN9mQA",
        "colab_type": "text"
      },
      "source": [
        "## Szczegóły detekcji znaków - importy nazw i klas"
      ]
    },
    {
      "cell_type": "code",
      "metadata": {
        "id": "FbgG9LJuWioF",
        "colab_type": "code",
        "outputId": "86fa4e9d-bb09-489b-be3d-6e3e811307d4",
        "colab": {
          "base_uri": "https://localhost:8080/",
          "height": 937
        }
      },
      "source": [
        "%cd /content/Mask_RCNN/samples/znaki/\n",
        "#import znaki\n",
        "from mrcnn.config import Config\n",
        "from mrcnn import model as modellib, utils\n",
        "class InferenceConfig(Config):\n",
        "    # Run detection on one image at a time\n",
        "    NAME = 'darek_det'\n",
        "    GPU_COUNT = 1\n",
        "    IMAGES_PER_GPU = 1\n",
        "    NUM_CLASSES = 1 + 43\n",
        "config = InferenceConfig()\n",
        "config.display()\n",
        "\n",
        "CLASS_NAMES = open('/content/gdrive/MGR_RCNN/ZNAKI/znaki_labels').read().strip().split(\"\\n\")\n"
      ],
      "execution_count": 0,
      "outputs": [
        {
          "output_type": "stream",
          "text": [
            "/content/Mask_RCNN/samples/znaki\n",
            "\n",
            "Configurations:\n",
            "BACKBONE                       resnet101\n",
            "BACKBONE_STRIDES               [4, 8, 16, 32, 64]\n",
            "BATCH_SIZE                     1\n",
            "BBOX_STD_DEV                   [0.1 0.1 0.2 0.2]\n",
            "COMPUTE_BACKBONE_SHAPE         None\n",
            "DETECTION_MAX_INSTANCES        100\n",
            "DETECTION_MIN_CONFIDENCE       0.7\n",
            "DETECTION_NMS_THRESHOLD        0.3\n",
            "FPN_CLASSIF_FC_LAYERS_SIZE     1024\n",
            "GPU_COUNT                      1\n",
            "GRADIENT_CLIP_NORM             5.0\n",
            "IMAGES_PER_GPU                 1\n",
            "IMAGE_CHANNEL_COUNT            3\n",
            "IMAGE_MAX_DIM                  1024\n",
            "IMAGE_META_SIZE                56\n",
            "IMAGE_MIN_DIM                  800\n",
            "IMAGE_MIN_SCALE                0\n",
            "IMAGE_RESIZE_MODE              square\n",
            "IMAGE_SHAPE                    [1024 1024    3]\n",
            "LEARNING_MOMENTUM              0.9\n",
            "LEARNING_RATE                  0.001\n",
            "LOSS_WEIGHTS                   {'rpn_class_loss': 1.0, 'rpn_bbox_loss': 1.0, 'mrcnn_class_loss': 1.0, 'mrcnn_bbox_loss': 1.0, 'mrcnn_mask_loss': 1.0}\n",
            "MASK_POOL_SIZE                 14\n",
            "MASK_SHAPE                     [28, 28]\n",
            "MAX_GT_INSTANCES               100\n",
            "MEAN_PIXEL                     [123.7 116.8 103.9]\n",
            "MINI_MASK_SHAPE                (56, 56)\n",
            "NAME                           darek_det\n",
            "NUM_CLASSES                    44\n",
            "POOL_SIZE                      7\n",
            "POST_NMS_ROIS_INFERENCE        1000\n",
            "POST_NMS_ROIS_TRAINING         2000\n",
            "PRE_NMS_LIMIT                  6000\n",
            "ROI_POSITIVE_RATIO             0.33\n",
            "RPN_ANCHOR_RATIOS              [0.5, 1, 2]\n",
            "RPN_ANCHOR_SCALES              (32, 64, 128, 256, 512)\n",
            "RPN_ANCHOR_STRIDE              1\n",
            "RPN_BBOX_STD_DEV               [0.1 0.1 0.2 0.2]\n",
            "RPN_NMS_THRESHOLD              0.7\n",
            "RPN_TRAIN_ANCHORS_PER_IMAGE    256\n",
            "STEPS_PER_EPOCH                1000\n",
            "TOP_DOWN_PYRAMID_SIZE          256\n",
            "TRAIN_BN                       False\n",
            "TRAIN_ROIS_PER_IMAGE           200\n",
            "USE_MINI_MASK                  True\n",
            "USE_RPN_ROIS                   True\n",
            "VALIDATION_STEPS               50\n",
            "WEIGHT_DECAY                   0.0001\n",
            "\n",
            "\n"
          ],
          "name": "stdout"
        }
      ]
    },
    {
      "cell_type": "code",
      "metadata": {
        "id": "kx9uyVZb1rXF",
        "colab_type": "code",
        "outputId": "445c0b04-fe2b-4f11-a21b-2825fd7ecf4e",
        "colab": {
          "base_uri": "https://localhost:8080/",
          "height": 506
        }
      },
      "source": [
        "rcnn = modellib.MaskRCNN(mode='inference', model_dir=WEIGHTS_PATH, config=InferenceConfig())"
      ],
      "execution_count": 0,
      "outputs": [
        {
          "output_type": "stream",
          "text": [
            "WARNING:tensorflow:From /usr/local/lib/python3.6/dist-packages/keras/backend/tensorflow_backend.py:541: The name tf.placeholder is deprecated. Please use tf.compat.v1.placeholder instead.\n",
            "\n",
            "WARNING:tensorflow:From /usr/local/lib/python3.6/dist-packages/keras/backend/tensorflow_backend.py:66: The name tf.get_default_graph is deprecated. Please use tf.compat.v1.get_default_graph instead.\n",
            "\n",
            "WARNING:tensorflow:From /usr/local/lib/python3.6/dist-packages/keras/backend/tensorflow_backend.py:4432: The name tf.random_uniform is deprecated. Please use tf.random.uniform instead.\n",
            "\n",
            "WARNING:tensorflow:From /usr/local/lib/python3.6/dist-packages/keras/backend/tensorflow_backend.py:2139: The name tf.nn.fused_batch_norm is deprecated. Please use tf.compat.v1.nn.fused_batch_norm instead.\n",
            "\n",
            "WARNING:tensorflow:From /usr/local/lib/python3.6/dist-packages/keras/backend/tensorflow_backend.py:4267: The name tf.nn.max_pool is deprecated. Please use tf.nn.max_pool2d instead.\n",
            "\n",
            "WARNING:tensorflow:From /usr/local/lib/python3.6/dist-packages/keras/backend/tensorflow_backend.py:2239: The name tf.image.resize_nearest_neighbor is deprecated. Please use tf.compat.v1.image.resize_nearest_neighbor instead.\n",
            "\n",
            "WARNING:tensorflow:From /content/Mask_RCNN/mrcnn/model.py:341: The name tf.log is deprecated. Please use tf.math.log instead.\n",
            "\n",
            "WARNING:tensorflow:From /content/Mask_RCNN/mrcnn/model.py:399: where (from tensorflow.python.ops.array_ops) is deprecated and will be removed in a future version.\n",
            "Instructions for updating:\n",
            "Use tf.where in 2.0, which has the same broadcast rule as np.where\n",
            "WARNING:tensorflow:From /content/Mask_RCNN/mrcnn/model.py:423: calling crop_and_resize_v1 (from tensorflow.python.ops.image_ops_impl) with box_ind is deprecated and will be removed in a future version.\n",
            "Instructions for updating:\n",
            "box_ind is deprecated, use box_indices instead\n",
            "WARNING:tensorflow:From /content/Mask_RCNN/mrcnn/model.py:720: The name tf.sets.set_intersection is deprecated. Please use tf.sets.intersection instead.\n",
            "\n",
            "WARNING:tensorflow:From /content/Mask_RCNN/mrcnn/model.py:722: The name tf.sparse_tensor_to_dense is deprecated. Please use tf.sparse.to_dense instead.\n",
            "\n",
            "WARNING:tensorflow:From /content/Mask_RCNN/mrcnn/model.py:772: to_float (from tensorflow.python.ops.math_ops) is deprecated and will be removed in a future version.\n",
            "Instructions for updating:\n",
            "Use `tf.cast` instead.\n"
          ],
          "name": "stdout"
        }
      ]
    },
    {
      "cell_type": "code",
      "metadata": {
        "id": "iKWNCug818yN",
        "colab_type": "code",
        "outputId": "dbceea3f-6938-4bf9-c7d6-32d96ae1a992",
        "colab": {
          "base_uri": "https://localhost:8080/",
          "height": 263
        }
      },
      "source": [
        "rcnn.load_weights('/content/gdrive/MGR_RCNN/COCO/logs/znaki20190708T2020/mask_rcnn_znaki_0160.h5', by_name=True)"
      ],
      "execution_count": 0,
      "outputs": [
        {
          "output_type": "stream",
          "text": [
            "WARNING:tensorflow:From /usr/local/lib/python3.6/dist-packages/keras/backend/tensorflow_backend.py:190: The name tf.get_default_session is deprecated. Please use tf.compat.v1.get_default_session instead.\n",
            "\n",
            "WARNING:tensorflow:From /usr/local/lib/python3.6/dist-packages/keras/backend/tensorflow_backend.py:197: The name tf.ConfigProto is deprecated. Please use tf.compat.v1.ConfigProto instead.\n",
            "\n",
            "WARNING:tensorflow:From /usr/local/lib/python3.6/dist-packages/keras/backend/tensorflow_backend.py:203: The name tf.Session is deprecated. Please use tf.compat.v1.Session instead.\n",
            "\n",
            "WARNING:tensorflow:From /usr/local/lib/python3.6/dist-packages/keras/backend/tensorflow_backend.py:207: The name tf.global_variables is deprecated. Please use tf.compat.v1.global_variables instead.\n",
            "\n",
            "WARNING:tensorflow:From /usr/local/lib/python3.6/dist-packages/keras/backend/tensorflow_backend.py:216: The name tf.is_variable_initialized is deprecated. Please use tf.compat.v1.is_variable_initialized instead.\n",
            "\n",
            "WARNING:tensorflow:From /usr/local/lib/python3.6/dist-packages/keras/backend/tensorflow_backend.py:223: The name tf.variables_initializer is deprecated. Please use tf.compat.v1.variables_initializer instead.\n",
            "\n",
            "Re-starting from epoch 160\n"
          ],
          "name": "stdout"
        }
      ]
    },
    {
      "cell_type": "markdown",
      "metadata": {
        "id": "bh8wyHot-lSd",
        "colab_type": "text"
      },
      "source": [
        "## Poszczególne zdjęcia (ramki filmu) są poddawane detekcji w sieci Mask R-CNN, wyniki detekcji są zapisywane w pliku yaml"
      ]
    },
    {
      "cell_type": "code",
      "metadata": {
        "id": "betxjDrNOMOd",
        "colab_type": "code",
        "outputId": "08657097-9db7-4f24-9417-a881746f1017",
        "colab": {
          "base_uri": "https://localhost:8080/",
          "height": 1000
        }
      },
      "source": [
        "import yaml\n",
        "\n",
        "PIC_DIR = '/content/gdrive/dataset/test_noc/'\n",
        "source = PIC_DIR\n",
        "y = '/content/gdrive/dataset/test_noc/val/detection_20191106.yaml'\n",
        "for root, dirs, files in os.walk(PIC_DIR):\n",
        "    for filename in files:\n",
        "      if filename.rpartition(\".\")[-1] == 'jpg':\n",
        "        #print(filename)\n",
        "        image = skimage.io.imread(os.path.join(PIC_DIR,filename))\n",
        "        results = rcnn.detect([image], verbose=0)\n",
        "        r = results[0]\n",
        "        #frame = visualize.display_instances(image, r['rois'], r['masks'], r['class_ids'], CLASS_NAMES, r['scores'])\n",
        "        #pic_nam = dict(fi = str(filename))\n",
        "        pic_nam = {}\n",
        "        yaml_entry = {}\n",
        "        yaml_entry['rois']=str(r['rois'])\n",
        "        yaml_entry['class_id']=str(r['class_ids'])\n",
        "        yaml_entry['scores'] = str(r['scores'])\n",
        "        #yaml_entry = dict(roi = (r['rois']), class_id = str(r['class_ids']),\n",
        "        #                  scores = str(r['scores'])\n",
        "        #)\n",
        "        pic_nam[filename] = yaml_entry\n",
        "        with open(y, 'a') as yaml_file:\n",
        "          yaml.dump(pic_nam, yaml_file, default_flow_style=False)\n",
        "\n",
        "        print(filename)\n",
        "#f.close()"
      ],
      "execution_count": 0,
      "outputs": [
        {
          "output_type": "stream",
          "text": [
            "000466.jpg\n",
            "000468.jpg\n",
            "000464.jpg\n",
            "000467.jpg\n",
            "000469.jpg\n",
            "000471.jpg\n",
            "000477.jpg\n",
            "000474.jpg\n",
            "000473.jpg\n",
            "000476.jpg\n",
            "000470.jpg\n",
            "000472.jpg\n",
            "000478.jpg\n",
            "000475.jpg\n",
            "000479.jpg\n",
            "000480.jpg\n",
            "000483.jpg\n",
            "000489.jpg\n",
            "000481.jpg\n",
            "000486.jpg\n",
            "000485.jpg\n",
            "000488.jpg\n",
            "000484.jpg\n",
            "000482.jpg\n",
            "000487.jpg\n",
            "000492.jpg\n",
            "000498.jpg\n",
            "000499.jpg\n",
            "000495.jpg\n",
            "000490.jpg\n",
            "000493.jpg\n",
            "000491.jpg\n",
            "000497.jpg\n",
            "000494.jpg\n",
            "000496.jpg\n",
            "000509.jpg\n",
            "000502.jpg\n",
            "000501.jpg\n",
            "000507.jpg\n",
            "000500.jpg\n",
            "000504.jpg\n",
            "000503.jpg\n",
            "000505.jpg\n",
            "000506.jpg\n",
            "000508.jpg\n",
            "000510.jpg\n",
            "000515.jpg\n",
            "000519.jpg\n",
            "000511.jpg\n",
            "000513.jpg\n",
            "000516.jpg\n",
            "000518.jpg\n",
            "000512.jpg\n",
            "000517.jpg\n",
            "000514.jpg\n",
            "000525.jpg\n",
            "000524.jpg\n",
            "000521.jpg\n",
            "000528.jpg\n",
            "000522.jpg\n",
            "000523.jpg\n",
            "000529.jpg\n",
            "000527.jpg\n",
            "000520.jpg\n",
            "000526.jpg\n",
            "000537.jpg\n",
            "000532.jpg\n",
            "000530.jpg\n",
            "000531.jpg\n",
            "000534.jpg\n",
            "000535.jpg\n",
            "000539.jpg\n",
            "000538.jpg\n",
            "000536.jpg\n",
            "000533.jpg\n",
            "000540.jpg\n",
            "000544.jpg\n",
            "000541.jpg\n",
            "000543.jpg\n",
            "000549.jpg\n",
            "000546.jpg\n",
            "000542.jpg\n",
            "000545.jpg\n",
            "000547.jpg\n",
            "000548.jpg\n",
            "000550.jpg\n",
            "000552.jpg\n",
            "000554.jpg\n",
            "000551.jpg\n",
            "000553.jpg\n",
            "000556.jpg\n",
            "000555.jpg\n",
            "000557.jpg\n",
            "000558.jpg\n",
            "000369.jpg\n",
            "000368.jpg\n",
            "000365.jpg\n",
            "000364.jpg\n",
            "000367.jpg\n",
            "000372.jpg\n",
            "000374.jpg\n",
            "000373.jpg\n",
            "000371.jpg\n",
            "000370.jpg\n",
            "000378.jpg\n",
            "000376.jpg\n",
            "000379.jpg\n",
            "000375.jpg\n",
            "000377.jpg\n",
            "000381.jpg\n",
            "000384.jpg\n",
            "000387.jpg\n",
            "000388.jpg\n",
            "000389.jpg\n",
            "000380.jpg\n",
            "000382.jpg\n",
            "000383.jpg\n",
            "000386.jpg\n",
            "000385.jpg\n",
            "000399.jpg\n",
            "000397.jpg\n",
            "000395.jpg\n",
            "000392.jpg\n",
            "000393.jpg\n",
            "000394.jpg\n",
            "000396.jpg\n",
            "000391.jpg\n",
            "000398.jpg\n",
            "000390.jpg\n",
            "000402.jpg\n",
            "000404.jpg\n",
            "000403.jpg\n",
            "000405.jpg\n",
            "000408.jpg\n",
            "000401.jpg\n",
            "000400.jpg\n",
            "000406.jpg\n",
            "000409.jpg\n",
            "000407.jpg\n",
            "000411.jpg\n",
            "000412.jpg\n",
            "000414.jpg\n",
            "000419.jpg\n",
            "000413.jpg\n",
            "000416.jpg\n",
            "000415.jpg\n",
            "000410.jpg\n",
            "000417.jpg\n",
            "000418.jpg\n",
            "000429.jpg\n",
            "000422.jpg\n",
            "000426.jpg\n",
            "000421.jpg\n",
            "000423.jpg\n",
            "000420.jpg\n",
            "000427.jpg\n",
            "000424.jpg\n",
            "000428.jpg\n",
            "000425.jpg\n",
            "000430.jpg\n",
            "000438.jpg\n",
            "000435.jpg\n",
            "000432.jpg\n",
            "000431.jpg\n",
            "000433.jpg\n",
            "000434.jpg\n",
            "000439.jpg\n",
            "000437.jpg\n",
            "000436.jpg\n",
            "000441.jpg\n",
            "000446.jpg\n",
            "000440.jpg\n",
            "000444.jpg\n",
            "000447.jpg\n",
            "000443.jpg\n",
            "000449.jpg\n",
            "000445.jpg\n",
            "000442.jpg\n",
            "000448.jpg\n",
            "000450.jpg\n",
            "000459.jpg\n",
            "000453.jpg\n",
            "000451.jpg\n",
            "000456.jpg\n",
            "000452.jpg\n",
            "000457.jpg\n",
            "000458.jpg\n",
            "000454.jpg\n",
            "000455.jpg\n",
            "000461.jpg\n",
            "000463.jpg\n",
            "000462.jpg\n",
            "000460.jpg\n",
            "000465.jpg\n",
            "000265.jpg\n",
            "000266.jpg\n",
            "000268.jpg\n",
            "000262.jpg\n",
            "000269.jpg\n",
            "000276.jpg\n",
            "000278.jpg\n",
            "000270.jpg\n",
            "000273.jpg\n",
            "000275.jpg\n",
            "000279.jpg\n",
            "000271.jpg\n",
            "000274.jpg\n",
            "000277.jpg\n",
            "000272.jpg\n",
            "000280.jpg\n",
            "000283.jpg\n",
            "000288.jpg\n",
            "000282.jpg\n",
            "000285.jpg\n",
            "000284.jpg\n",
            "000286.jpg\n",
            "000289.jpg\n",
            "000287.jpg\n",
            "000281.jpg\n",
            "000291.jpg\n",
            "000294.jpg\n",
            "000297.jpg\n",
            "000292.jpg\n",
            "000293.jpg\n",
            "000299.jpg\n",
            "000298.jpg\n",
            "000295.jpg\n",
            "000290.jpg\n",
            "000296.jpg\n",
            "000300.jpg\n",
            "000302.jpg\n",
            "000305.jpg\n",
            "000301.jpg\n",
            "000303.jpg\n",
            "000306.jpg\n",
            "000307.jpg\n",
            "000304.jpg\n",
            "000308.jpg\n",
            "000309.jpg\n",
            "000312.jpg\n",
            "000318.jpg\n",
            "000314.jpg\n",
            "000310.jpg\n",
            "000315.jpg\n",
            "000319.jpg\n",
            "000317.jpg\n",
            "000311.jpg\n",
            "000313.jpg\n",
            "000316.jpg\n",
            "000321.jpg\n",
            "000328.jpg\n",
            "000324.jpg\n",
            "000327.jpg\n",
            "000320.jpg\n",
            "000323.jpg\n",
            "000326.jpg\n",
            "000322.jpg\n",
            "000329.jpg\n",
            "000325.jpg\n",
            "000333.jpg\n",
            "000337.jpg\n",
            "000339.jpg\n",
            "000336.jpg\n",
            "000334.jpg\n",
            "000338.jpg\n",
            "000332.jpg\n",
            "000335.jpg\n",
            "000331.jpg\n",
            "000330.jpg\n",
            "000340.jpg\n",
            "000348.jpg\n",
            "000342.jpg\n",
            "000345.jpg\n",
            "000341.jpg\n",
            "000344.jpg\n",
            "000346.jpg\n",
            "000349.jpg\n",
            "000347.jpg\n",
            "000343.jpg\n",
            "000351.jpg\n",
            "000359.jpg\n",
            "000354.jpg\n",
            "000350.jpg\n",
            "000357.jpg\n",
            "000353.jpg\n",
            "000356.jpg\n",
            "000352.jpg\n",
            "000358.jpg\n",
            "000355.jpg\n",
            "000360.jpg\n",
            "000362.jpg\n",
            "000363.jpg\n",
            "000366.jpg\n",
            "000361.jpg\n",
            "000163.jpg\n",
            "000164.jpg\n",
            "000166.jpg\n",
            "000161.jpg\n",
            "000169.jpg\n",
            "000177.jpg\n",
            "000174.jpg\n",
            "000179.jpg\n",
            "000171.jpg\n",
            "000170.jpg\n",
            "000176.jpg\n",
            "000175.jpg\n",
            "000178.jpg\n",
            "000173.jpg\n",
            "000172.jpg\n",
            "000183.jpg\n",
            "000185.jpg\n",
            "000180.jpg\n",
            "000189.jpg\n",
            "000186.jpg\n",
            "000184.jpg\n",
            "000181.jpg\n",
            "000188.jpg\n",
            "000182.jpg\n",
            "000187.jpg\n",
            "000199.jpg\n",
            "000197.jpg\n",
            "000195.jpg\n",
            "000194.jpg\n",
            "000190.jpg\n",
            "000192.jpg\n",
            "000198.jpg\n",
            "000191.jpg\n",
            "000193.jpg\n",
            "000196.jpg\n",
            "000207.jpg\n",
            "000202.jpg\n",
            "000200.jpg\n",
            "000201.jpg\n",
            "000203.jpg\n",
            "000204.jpg\n",
            "000205.jpg\n",
            "000208.jpg\n",
            "000209.jpg\n",
            "000206.jpg\n",
            "000210.jpg\n",
            "000218.jpg\n",
            "000216.jpg\n",
            "000213.jpg\n",
            "000219.jpg\n",
            "000215.jpg\n",
            "000217.jpg\n",
            "000214.jpg\n",
            "000211.jpg\n",
            "000212.jpg\n",
            "000222.jpg\n",
            "000226.jpg\n",
            "000225.jpg\n",
            "000223.jpg\n",
            "000228.jpg\n",
            "000224.jpg\n",
            "000227.jpg\n",
            "000220.jpg\n",
            "000221.jpg\n",
            "000229.jpg\n",
            "000230.jpg\n",
            "000237.jpg\n",
            "000231.jpg\n",
            "000233.jpg\n",
            "000234.jpg\n",
            "000232.jpg\n",
            "000235.jpg\n",
            "000236.jpg\n",
            "000239.jpg\n",
            "000238.jpg\n",
            "000240.jpg\n",
            "000241.jpg\n",
            "000249.jpg\n",
            "000242.jpg\n",
            "000246.jpg\n",
            "000243.jpg\n",
            "000244.jpg\n",
            "000248.jpg\n",
            "000247.jpg\n",
            "000245.jpg\n",
            "000258.jpg\n",
            "000256.jpg\n",
            "000252.jpg\n",
            "000259.jpg\n",
            "000257.jpg\n",
            "000255.jpg\n",
            "000254.jpg\n",
            "000251.jpg\n",
            "000253.jpg\n",
            "000250.jpg\n",
            "000260.jpg\n",
            "000267.jpg\n",
            "000263.jpg\n",
            "000261.jpg\n",
            "000264.jpg\n",
            "000068.jpg\n",
            "000065.jpg\n",
            "000061.jpg\n",
            "000062.jpg\n",
            "000067.jpg\n",
            "000072.jpg\n",
            "000078.jpg\n",
            "000070.jpg\n",
            "000075.jpg\n",
            "000076.jpg\n",
            "000079.jpg\n",
            "000073.jpg\n",
            "000074.jpg\n",
            "000077.jpg\n",
            "000071.jpg\n",
            "000081.jpg\n",
            "000080.jpg\n",
            "000084.jpg\n",
            "000082.jpg\n",
            "000085.jpg\n",
            "000083.jpg\n",
            "000089.jpg\n",
            "000087.jpg\n",
            "000086.jpg\n",
            "000088.jpg\n",
            "000090.jpg\n",
            "000096.jpg\n",
            "000095.jpg\n",
            "000091.jpg\n",
            "000093.jpg\n",
            "000098.jpg\n",
            "000097.jpg\n",
            "000099.jpg\n",
            "000092.jpg\n",
            "000094.jpg\n",
            "000102.jpg\n",
            "000103.jpg\n",
            "000108.jpg\n",
            "000100.jpg\n",
            "000107.jpg\n",
            "000106.jpg\n",
            "000101.jpg\n",
            "000105.jpg\n",
            "000104.jpg\n",
            "000109.jpg\n",
            "000111.jpg\n",
            "000117.jpg\n",
            "000114.jpg\n",
            "000112.jpg\n",
            "000110.jpg\n",
            "000116.jpg\n",
            "000113.jpg\n",
            "000119.jpg\n",
            "000115.jpg\n",
            "000118.jpg\n",
            "000126.jpg\n",
            "000127.jpg\n",
            "000123.jpg\n",
            "000120.jpg\n",
            "000129.jpg\n",
            "000124.jpg\n",
            "000122.jpg\n",
            "000128.jpg\n",
            "000125.jpg\n",
            "000121.jpg\n",
            "000132.jpg\n",
            "000138.jpg\n",
            "000135.jpg\n",
            "000133.jpg\n",
            "000131.jpg\n",
            "000130.jpg\n",
            "000137.jpg\n",
            "000134.jpg\n",
            "000139.jpg\n",
            "000136.jpg\n",
            "000141.jpg\n",
            "000144.jpg\n",
            "000147.jpg\n",
            "000143.jpg\n",
            "000140.jpg\n",
            "000142.jpg\n",
            "000146.jpg\n",
            "000149.jpg\n",
            "000145.jpg\n",
            "000148.jpg\n",
            "000150.jpg\n",
            "000153.jpg\n",
            "000152.jpg\n",
            "000156.jpg\n",
            "000151.jpg\n",
            "000159.jpg\n",
            "000157.jpg\n",
            "000155.jpg\n",
            "000158.jpg\n",
            "000154.jpg\n",
            "000162.jpg\n",
            "000168.jpg\n",
            "000160.jpg\n",
            "000165.jpg\n",
            "000167.jpg\n",
            "000000.jpg\n",
            "000002.jpg\n",
            "000009.jpg\n",
            "000006.jpg\n",
            "000001.jpg\n",
            "000005.jpg\n",
            "000003.jpg\n",
            "000008.jpg\n",
            "000007.jpg\n",
            "000004.jpg\n",
            "000012.jpg\n",
            "000018.jpg\n",
            "000013.jpg\n",
            "000011.jpg\n",
            "000010.jpg\n",
            "000015.jpg\n",
            "000014.jpg\n",
            "000017.jpg\n",
            "000016.jpg\n",
            "000019.jpg\n",
            "000021.jpg\n",
            "000020.jpg\n",
            "000023.jpg\n",
            "000024.jpg\n",
            "000022.jpg\n",
            "000028.jpg\n",
            "000027.jpg\n",
            "000026.jpg\n",
            "000029.jpg\n",
            "000025.jpg\n",
            "000030.jpg\n",
            "000033.jpg\n",
            "000036.jpg\n",
            "000037.jpg\n",
            "000035.jpg\n",
            "000034.jpg\n",
            "000038.jpg\n",
            "000032.jpg\n",
            "000039.jpg\n",
            "000031.jpg\n",
            "000048.jpg\n",
            "000044.jpg\n",
            "000046.jpg\n",
            "000042.jpg\n",
            "000040.jpg\n",
            "000045.jpg\n",
            "000043.jpg\n",
            "000049.jpg\n",
            "000041.jpg\n",
            "000047.jpg\n",
            "000051.jpg\n",
            "000057.jpg\n",
            "000053.jpg\n",
            "000054.jpg\n",
            "000052.jpg\n",
            "000059.jpg\n",
            "000056.jpg\n",
            "000050.jpg\n",
            "000058.jpg\n",
            "000055.jpg\n",
            "000060.jpg\n",
            "000066.jpg\n",
            "000069.jpg\n",
            "000063.jpg\n",
            "000064.jpg\n"
          ],
          "name": "stdout"
        },
        {
          "output_type": "error",
          "ename": "FileNotFoundError",
          "evalue": "ignored",
          "traceback": [
            "\u001b[0;31m---------------------------------------------------------------------------\u001b[0m",
            "\u001b[0;31mFileNotFoundError\u001b[0m                         Traceback (most recent call last)",
            "\u001b[0;32m<ipython-input-14-c206ef8af261>\u001b[0m in \u001b[0;36m<module>\u001b[0;34m()\u001b[0m\n\u001b[1;32m      8\u001b[0m       \u001b[0;32mif\u001b[0m \u001b[0mfilename\u001b[0m\u001b[0;34m.\u001b[0m\u001b[0mrpartition\u001b[0m\u001b[0;34m(\u001b[0m\u001b[0;34m\".\"\u001b[0m\u001b[0;34m)\u001b[0m\u001b[0;34m[\u001b[0m\u001b[0;34m-\u001b[0m\u001b[0;36m1\u001b[0m\u001b[0;34m]\u001b[0m \u001b[0;34m==\u001b[0m \u001b[0;34m'jpg'\u001b[0m\u001b[0;34m:\u001b[0m\u001b[0;34m\u001b[0m\u001b[0;34m\u001b[0m\u001b[0m\n\u001b[1;32m      9\u001b[0m         \u001b[0;31m#print(filename)\u001b[0m\u001b[0;34m\u001b[0m\u001b[0;34m\u001b[0m\u001b[0;34m\u001b[0m\u001b[0m\n\u001b[0;32m---> 10\u001b[0;31m         \u001b[0mimage\u001b[0m \u001b[0;34m=\u001b[0m \u001b[0mskimage\u001b[0m\u001b[0;34m.\u001b[0m\u001b[0mio\u001b[0m\u001b[0;34m.\u001b[0m\u001b[0mimread\u001b[0m\u001b[0;34m(\u001b[0m\u001b[0mos\u001b[0m\u001b[0;34m.\u001b[0m\u001b[0mpath\u001b[0m\u001b[0;34m.\u001b[0m\u001b[0mjoin\u001b[0m\u001b[0;34m(\u001b[0m\u001b[0mPIC_DIR\u001b[0m\u001b[0;34m,\u001b[0m\u001b[0mfilename\u001b[0m\u001b[0;34m)\u001b[0m\u001b[0;34m)\u001b[0m\u001b[0;34m\u001b[0m\u001b[0;34m\u001b[0m\u001b[0m\n\u001b[0m\u001b[1;32m     11\u001b[0m         \u001b[0mresults\u001b[0m \u001b[0;34m=\u001b[0m \u001b[0mrcnn\u001b[0m\u001b[0;34m.\u001b[0m\u001b[0mdetect\u001b[0m\u001b[0;34m(\u001b[0m\u001b[0;34m[\u001b[0m\u001b[0mimage\u001b[0m\u001b[0;34m]\u001b[0m\u001b[0;34m,\u001b[0m \u001b[0mverbose\u001b[0m\u001b[0;34m=\u001b[0m\u001b[0;36m0\u001b[0m\u001b[0;34m)\u001b[0m\u001b[0;34m\u001b[0m\u001b[0;34m\u001b[0m\u001b[0m\n\u001b[1;32m     12\u001b[0m         \u001b[0mr\u001b[0m \u001b[0;34m=\u001b[0m \u001b[0mresults\u001b[0m\u001b[0;34m[\u001b[0m\u001b[0;36m0\u001b[0m\u001b[0;34m]\u001b[0m\u001b[0;34m\u001b[0m\u001b[0;34m\u001b[0m\u001b[0m\n",
            "\u001b[0;32m/usr/local/lib/python3.6/dist-packages/skimage/io/_io.py\u001b[0m in \u001b[0;36mimread\u001b[0;34m(fname, as_gray, plugin, flatten, **plugin_args)\u001b[0m\n\u001b[1;32m     59\u001b[0m \u001b[0;34m\u001b[0m\u001b[0m\n\u001b[1;32m     60\u001b[0m     \u001b[0;32mwith\u001b[0m \u001b[0mfile_or_url_context\u001b[0m\u001b[0;34m(\u001b[0m\u001b[0mfname\u001b[0m\u001b[0;34m)\u001b[0m \u001b[0;32mas\u001b[0m \u001b[0mfname\u001b[0m\u001b[0;34m:\u001b[0m\u001b[0;34m\u001b[0m\u001b[0;34m\u001b[0m\u001b[0m\n\u001b[0;32m---> 61\u001b[0;31m         \u001b[0mimg\u001b[0m \u001b[0;34m=\u001b[0m \u001b[0mcall_plugin\u001b[0m\u001b[0;34m(\u001b[0m\u001b[0;34m'imread'\u001b[0m\u001b[0;34m,\u001b[0m \u001b[0mfname\u001b[0m\u001b[0;34m,\u001b[0m \u001b[0mplugin\u001b[0m\u001b[0;34m=\u001b[0m\u001b[0mplugin\u001b[0m\u001b[0;34m,\u001b[0m \u001b[0;34m**\u001b[0m\u001b[0mplugin_args\u001b[0m\u001b[0;34m)\u001b[0m\u001b[0;34m\u001b[0m\u001b[0;34m\u001b[0m\u001b[0m\n\u001b[0m\u001b[1;32m     62\u001b[0m \u001b[0;34m\u001b[0m\u001b[0m\n\u001b[1;32m     63\u001b[0m     \u001b[0;32mif\u001b[0m \u001b[0;32mnot\u001b[0m \u001b[0mhasattr\u001b[0m\u001b[0;34m(\u001b[0m\u001b[0mimg\u001b[0m\u001b[0;34m,\u001b[0m \u001b[0;34m'ndim'\u001b[0m\u001b[0;34m)\u001b[0m\u001b[0;34m:\u001b[0m\u001b[0;34m\u001b[0m\u001b[0;34m\u001b[0m\u001b[0m\n",
            "\u001b[0;32m/usr/local/lib/python3.6/dist-packages/skimage/io/manage_plugins.py\u001b[0m in \u001b[0;36mcall_plugin\u001b[0;34m(kind, *args, **kwargs)\u001b[0m\n\u001b[1;32m    208\u001b[0m                                (plugin, kind))\n\u001b[1;32m    209\u001b[0m \u001b[0;34m\u001b[0m\u001b[0m\n\u001b[0;32m--> 210\u001b[0;31m     \u001b[0;32mreturn\u001b[0m \u001b[0mfunc\u001b[0m\u001b[0;34m(\u001b[0m\u001b[0;34m*\u001b[0m\u001b[0margs\u001b[0m\u001b[0;34m,\u001b[0m \u001b[0;34m**\u001b[0m\u001b[0mkwargs\u001b[0m\u001b[0;34m)\u001b[0m\u001b[0;34m\u001b[0m\u001b[0;34m\u001b[0m\u001b[0m\n\u001b[0m\u001b[1;32m    211\u001b[0m \u001b[0;34m\u001b[0m\u001b[0m\n\u001b[1;32m    212\u001b[0m \u001b[0;34m\u001b[0m\u001b[0m\n",
            "\u001b[0;32m/usr/local/lib/python3.6/dist-packages/imageio/core/functions.py\u001b[0m in \u001b[0;36mimread\u001b[0;34m(uri, format, **kwargs)\u001b[0m\n\u001b[1;32m    219\u001b[0m \u001b[0;34m\u001b[0m\u001b[0m\n\u001b[1;32m    220\u001b[0m     \u001b[0;31m# Get reader and read first\u001b[0m\u001b[0;34m\u001b[0m\u001b[0;34m\u001b[0m\u001b[0;34m\u001b[0m\u001b[0m\n\u001b[0;32m--> 221\u001b[0;31m     \u001b[0mreader\u001b[0m \u001b[0;34m=\u001b[0m \u001b[0mread\u001b[0m\u001b[0;34m(\u001b[0m\u001b[0muri\u001b[0m\u001b[0;34m,\u001b[0m \u001b[0mformat\u001b[0m\u001b[0;34m,\u001b[0m \u001b[0;34m\"i\"\u001b[0m\u001b[0;34m,\u001b[0m \u001b[0;34m**\u001b[0m\u001b[0mkwargs\u001b[0m\u001b[0;34m)\u001b[0m\u001b[0;34m\u001b[0m\u001b[0;34m\u001b[0m\u001b[0m\n\u001b[0m\u001b[1;32m    222\u001b[0m     \u001b[0;32mwith\u001b[0m \u001b[0mreader\u001b[0m\u001b[0;34m:\u001b[0m\u001b[0;34m\u001b[0m\u001b[0;34m\u001b[0m\u001b[0m\n\u001b[1;32m    223\u001b[0m         \u001b[0;32mreturn\u001b[0m \u001b[0mreader\u001b[0m\u001b[0;34m.\u001b[0m\u001b[0mget_data\u001b[0m\u001b[0;34m(\u001b[0m\u001b[0;36m0\u001b[0m\u001b[0;34m)\u001b[0m\u001b[0;34m\u001b[0m\u001b[0;34m\u001b[0m\u001b[0m\n",
            "\u001b[0;32m/usr/local/lib/python3.6/dist-packages/imageio/core/functions.py\u001b[0m in \u001b[0;36mget_reader\u001b[0;34m(uri, format, mode, **kwargs)\u001b[0m\n\u001b[1;32m    128\u001b[0m \u001b[0;34m\u001b[0m\u001b[0m\n\u001b[1;32m    129\u001b[0m     \u001b[0;31m# Create request object\u001b[0m\u001b[0;34m\u001b[0m\u001b[0;34m\u001b[0m\u001b[0;34m\u001b[0m\u001b[0m\n\u001b[0;32m--> 130\u001b[0;31m     \u001b[0mrequest\u001b[0m \u001b[0;34m=\u001b[0m \u001b[0mRequest\u001b[0m\u001b[0;34m(\u001b[0m\u001b[0muri\u001b[0m\u001b[0;34m,\u001b[0m \u001b[0;34m\"r\"\u001b[0m \u001b[0;34m+\u001b[0m \u001b[0mmode\u001b[0m\u001b[0;34m,\u001b[0m \u001b[0;34m**\u001b[0m\u001b[0mkwargs\u001b[0m\u001b[0;34m)\u001b[0m\u001b[0;34m\u001b[0m\u001b[0;34m\u001b[0m\u001b[0m\n\u001b[0m\u001b[1;32m    131\u001b[0m \u001b[0;34m\u001b[0m\u001b[0m\n\u001b[1;32m    132\u001b[0m     \u001b[0;31m# Get format\u001b[0m\u001b[0;34m\u001b[0m\u001b[0;34m\u001b[0m\u001b[0;34m\u001b[0m\u001b[0m\n",
            "\u001b[0;32m/usr/local/lib/python3.6/dist-packages/imageio/core/request.py\u001b[0m in \u001b[0;36m__init__\u001b[0;34m(self, uri, mode, **kwargs)\u001b[0m\n\u001b[1;32m    123\u001b[0m \u001b[0;34m\u001b[0m\u001b[0m\n\u001b[1;32m    124\u001b[0m         \u001b[0;31m# Parse what was given\u001b[0m\u001b[0;34m\u001b[0m\u001b[0;34m\u001b[0m\u001b[0;34m\u001b[0m\u001b[0m\n\u001b[0;32m--> 125\u001b[0;31m         \u001b[0mself\u001b[0m\u001b[0;34m.\u001b[0m\u001b[0m_parse_uri\u001b[0m\u001b[0;34m(\u001b[0m\u001b[0muri\u001b[0m\u001b[0;34m)\u001b[0m\u001b[0;34m\u001b[0m\u001b[0;34m\u001b[0m\u001b[0m\n\u001b[0m\u001b[1;32m    126\u001b[0m \u001b[0;34m\u001b[0m\u001b[0m\n\u001b[1;32m    127\u001b[0m         \u001b[0;31m# Set extension\u001b[0m\u001b[0;34m\u001b[0m\u001b[0;34m\u001b[0m\u001b[0;34m\u001b[0m\u001b[0m\n",
            "\u001b[0;32m/usr/local/lib/python3.6/dist-packages/imageio/core/request.py\u001b[0m in \u001b[0;36m_parse_uri\u001b[0;34m(self, uri)\u001b[0m\n\u001b[1;32m    271\u001b[0m                 \u001b[0;31m# Reading: check that the file exists (but is allowed a dir)\u001b[0m\u001b[0;34m\u001b[0m\u001b[0;34m\u001b[0m\u001b[0;34m\u001b[0m\u001b[0m\n\u001b[1;32m    272\u001b[0m                 \u001b[0;32mif\u001b[0m \u001b[0;32mnot\u001b[0m \u001b[0mos\u001b[0m\u001b[0;34m.\u001b[0m\u001b[0mpath\u001b[0m\u001b[0;34m.\u001b[0m\u001b[0mexists\u001b[0m\u001b[0;34m(\u001b[0m\u001b[0mfn\u001b[0m\u001b[0;34m)\u001b[0m\u001b[0;34m:\u001b[0m\u001b[0;34m\u001b[0m\u001b[0;34m\u001b[0m\u001b[0m\n\u001b[0;32m--> 273\u001b[0;31m                     \u001b[0;32mraise\u001b[0m \u001b[0mFileNotFoundError\u001b[0m\u001b[0;34m(\u001b[0m\u001b[0;34m\"No such file: '%s'\"\u001b[0m \u001b[0;34m%\u001b[0m \u001b[0mfn\u001b[0m\u001b[0;34m)\u001b[0m\u001b[0;34m\u001b[0m\u001b[0;34m\u001b[0m\u001b[0m\n\u001b[0m\u001b[1;32m    274\u001b[0m             \u001b[0;32melse\u001b[0m\u001b[0;34m:\u001b[0m\u001b[0;34m\u001b[0m\u001b[0;34m\u001b[0m\u001b[0m\n\u001b[1;32m    275\u001b[0m                 \u001b[0;31m# Writing: check that the directory to write to does exist\u001b[0m\u001b[0;34m\u001b[0m\u001b[0;34m\u001b[0m\u001b[0;34m\u001b[0m\u001b[0m\n",
            "\u001b[0;31mFileNotFoundError\u001b[0m: No such file: '/content/gdrive/dataset/test_noc/Copy of 000001.jpg'"
          ]
        }
      ]
    },
    {
      "cell_type": "markdown",
      "metadata": {
        "id": "Ux0okG1Dnbzg",
        "colab_type": "text"
      },
      "source": [
        "# Lokalizacja geograficzna znaków i uzupełnianie brakujących danych"
      ]
    },
    {
      "cell_type": "markdown",
      "metadata": {
        "id": "7kRDNXwHBtRc",
        "colab_type": "text"
      },
      "source": [
        "## Weryfikacja odleglosci / obliczenia pomocnicze"
      ]
    },
    {
      "cell_type": "code",
      "metadata": {
        "id": "S1r2X0CB1nID",
        "colab_type": "code",
        "outputId": "08bbe2a4-7e83-4b9e-cd3d-fa7cc1ebb175",
        "colab": {
          "base_uri": "https://localhost:8080/",
          "height": 121
        }
      },
      "source": [
        "from geographiclib.geodesic import Geodesic\n",
        "import math\n",
        "\n",
        "geod = Geodesic.WGS84  # define the WGS84 ellipsoid\n",
        "\n",
        "\n",
        "g = geod.Inverse(54.2696533, 18.589817, 54.2696838, 18.5898151)\n",
        "print(\"The distance is {:.3f} m.\".format(g['s12']))\n",
        "\n",
        "l = geod.InverseLine(54.2696533, 18.589817, 54.2696838, 18.5898151)\n",
        "ds = 3.397/2; n = int(math.ceil(l.s13 / ds))\n",
        "for i in range(n + 1):\n",
        "   if i == 0:\n",
        "     print(\"distance latitude longitude azimuth\")\n",
        "   s = min(ds * i, l.s13)\n",
        "   g = l.Position(s, Geodesic.STANDARD | Geodesic.LONG_UNROLL)\n",
        "   print(\"{:.0f} {:.7f} {:.7f} {:.7f}\".format(\n",
        "     g['s12'], g['lat2'], g['lon2'], g['azi2']))"
      ],
      "execution_count": 0,
      "outputs": [
        {
          "output_type": "stream",
          "text": [
            "The distance is 3.397 m.\n",
            "distance latitude longitude azimuth\n",
            "0 54.2696533 18.5898170 -2.0882005\n",
            "2 54.2696685 18.5898161 -2.0882012\n",
            "3 54.2696838 18.5898151 -2.0882020\n",
            "3 54.2696838 18.5898151 -2.0882020\n"
          ],
          "name": "stdout"
        }
      ]
    },
    {
      "cell_type": "markdown",
      "metadata": {
        "id": "7o05y5hl_Gp_",
        "colab_type": "text"
      },
      "source": [
        "## Wczytanie pliku z danymi gps dla każdego ze zdjęć i wykrytymi znakami\n",
        "metadata.yaml - współrzędne GPS\n",
        "detection_xxx.yaml - wyniki detekcji/ klasyfikacji"
      ]
    },
    {
      "cell_type": "code",
      "metadata": {
        "id": "MUEPC0fqn0OW",
        "colab_type": "code",
        "outputId": "41f91675-8013-4811-bf3d-0c827726e8da",
        "colab": {
          "base_uri": "https://localhost:8080/",
          "height": 104
        }
      },
      "source": [
        "import yaml\n",
        "\n",
        "%cd '/content/gdrive/dataset/test_noc/'\n",
        "!pwd\n",
        "\n",
        "#'/content/gdrive/dataset/test_noc/val/detection_20191106.yaml'\n",
        "with open(\"metadata.yaml\",'r') as stream:\n",
        "  data = yaml.load(stream)\n",
        "\n",
        "\n",
        "with open('/content/gdrive/dataset/test_noc/val/detection_20191106.yaml','r') as stream2:\n",
        "  detection = yaml.load(stream2)\n",
        "#data['000100.jpg']['gps']\n",
        "#print('sec')\n",
        "detection['000550.jpg']"
      ],
      "execution_count": 0,
      "outputs": [
        {
          "output_type": "stream",
          "text": [
            "/content/gdrive/dataset/test_noc\n",
            "/content/gdrive/dataset/test_noc\n"
          ],
          "name": "stdout"
        },
        {
          "output_type": "execute_result",
          "data": {
            "text/plain": [
              "{'class_id': '[14]',\n",
              " 'rois': '[[ 378 1096  543 1248]]',\n",
              " 'scores': '[0.9744985]'}"
            ]
          },
          "metadata": {
            "tags": []
          },
          "execution_count": 13
        }
      ]
    },
    {
      "cell_type": "code",
      "metadata": {
        "id": "Q-JnB5TmBr-f",
        "colab_type": "code",
        "outputId": "ca3a46d5-d716-41f7-c236-7648ec332deb",
        "colab": {
          "base_uri": "https://localhost:8080/",
          "height": 54
        }
      },
      "source": [
        "print(data.keys())"
      ],
      "execution_count": 0,
      "outputs": [
        {
          "output_type": "stream",
          "text": [
            "dict_keys(['000000.jpg', '000001.jpg', '000002.jpg', '000003.jpg', '000004.jpg', '000005.jpg', '000006.jpg', '000007.jpg', '000008.jpg', '000009.jpg', '000010.jpg', '000011.jpg', '000012.jpg', '000013.jpg', '000014.jpg', '000015.jpg', '000016.jpg', '000017.jpg', '000018.jpg', '000019.jpg', '000020.jpg', '000021.jpg', '000022.jpg', '000023.jpg', '000024.jpg', '000025.jpg', '000026.jpg', '000027.jpg', '000028.jpg', '000029.jpg', '000030.jpg', '000031.jpg', '000032.jpg', '000033.jpg', '000034.jpg', '000035.jpg', '000036.jpg', '000037.jpg', '000038.jpg', '000039.jpg', '000040.jpg', '000041.jpg', '000042.jpg', '000043.jpg', '000044.jpg', '000045.jpg', '000046.jpg', '000047.jpg', '000048.jpg', '000049.jpg', '000050.jpg', '000051.jpg', '000052.jpg', '000053.jpg', '000054.jpg', '000055.jpg', '000056.jpg', '000057.jpg', '000058.jpg', '000059.jpg', '000060.jpg', '000061.jpg', '000062.jpg', '000063.jpg', '000064.jpg', '000065.jpg', '000066.jpg', '000067.jpg', '000068.jpg', '000069.jpg', '000070.jpg', '000071.jpg', '000072.jpg', '000073.jpg', '000074.jpg', '000075.jpg', '000076.jpg', '000077.jpg', '000078.jpg', '000079.jpg', '000080.jpg', '000081.jpg', '000082.jpg', '000083.jpg', '000084.jpg', '000085.jpg', '000086.jpg', '000087.jpg', '000088.jpg', '000089.jpg', '000090.jpg', '000091.jpg', '000092.jpg', '000093.jpg', '000094.jpg', '000095.jpg', '000096.jpg', '000097.jpg', '000098.jpg', '000099.jpg', '000100.jpg', '000101.jpg', '000102.jpg', '000103.jpg', '000104.jpg', '000105.jpg', '000106.jpg', '000107.jpg', '000108.jpg', '000109.jpg', '000110.jpg', '000111.jpg', '000112.jpg', '000113.jpg', '000114.jpg', '000115.jpg', '000116.jpg', '000117.jpg', '000118.jpg', '000119.jpg', '000120.jpg', '000121.jpg', '000122.jpg', '000123.jpg', '000124.jpg', '000125.jpg', '000126.jpg', '000127.jpg', '000128.jpg', '000129.jpg', '000130.jpg', '000131.jpg', '000132.jpg', '000133.jpg', '000134.jpg', '000135.jpg', '000136.jpg', '000137.jpg', '000138.jpg', '000139.jpg', '000140.jpg', '000141.jpg', '000142.jpg', '000143.jpg', '000144.jpg', '000145.jpg', '000146.jpg', '000147.jpg', '000148.jpg', '000149.jpg', '000150.jpg', '000151.jpg', '000152.jpg', '000153.jpg', '000154.jpg', '000155.jpg', '000156.jpg', '000157.jpg', '000158.jpg', '000159.jpg', '000160.jpg', '000161.jpg', '000162.jpg', '000163.jpg', '000164.jpg', '000165.jpg', '000166.jpg', '000167.jpg', '000168.jpg', '000169.jpg', '000170.jpg', '000171.jpg', '000172.jpg', '000173.jpg', '000174.jpg', '000175.jpg', '000176.jpg', '000177.jpg', '000178.jpg', '000179.jpg', '000180.jpg', '000181.jpg', '000182.jpg', '000183.jpg', '000184.jpg', '000185.jpg', '000186.jpg', '000187.jpg', '000188.jpg', '000189.jpg', '000190.jpg', '000191.jpg', '000192.jpg', '000193.jpg', '000194.jpg', '000195.jpg', '000196.jpg', '000197.jpg', '000198.jpg', '000199.jpg', '000200.jpg', '000201.jpg', '000202.jpg', '000203.jpg', '000204.jpg', '000205.jpg', '000206.jpg', '000207.jpg', '000208.jpg', '000209.jpg', '000210.jpg', '000211.jpg', '000212.jpg', '000213.jpg', '000214.jpg', '000215.jpg', '000216.jpg', '000217.jpg', '000218.jpg', '000219.jpg', '000220.jpg', '000221.jpg', '000222.jpg', '000223.jpg', '000224.jpg', '000225.jpg', '000226.jpg', '000227.jpg', '000228.jpg', '000229.jpg', '000230.jpg', '000231.jpg', '000232.jpg', '000233.jpg', '000234.jpg', '000235.jpg', '000236.jpg', '000237.jpg', '000238.jpg', '000239.jpg', '000240.jpg', '000241.jpg', '000242.jpg', '000243.jpg', '000244.jpg', '000245.jpg', '000246.jpg', '000247.jpg', '000248.jpg', '000249.jpg', '000250.jpg', '000251.jpg', '000252.jpg', '000253.jpg', '000254.jpg', '000255.jpg', '000256.jpg', '000257.jpg', '000258.jpg', '000259.jpg', '000260.jpg', '000261.jpg', '000262.jpg', '000263.jpg', '000264.jpg', '000265.jpg', '000266.jpg', '000267.jpg', '000268.jpg', '000269.jpg', '000270.jpg', '000271.jpg', '000272.jpg', '000273.jpg', '000274.jpg', '000275.jpg', '000276.jpg', '000277.jpg', '000278.jpg', '000279.jpg', '000280.jpg', '000281.jpg', '000282.jpg', '000283.jpg', '000284.jpg', '000285.jpg', '000286.jpg', '000287.jpg', '000288.jpg', '000289.jpg', '000290.jpg', '000291.jpg', '000292.jpg', '000293.jpg', '000294.jpg', '000295.jpg', '000296.jpg', '000297.jpg', '000298.jpg', '000299.jpg', '000300.jpg', '000301.jpg', '000302.jpg', '000303.jpg', '000304.jpg', '000305.jpg', '000306.jpg', '000307.jpg', '000308.jpg', '000309.jpg', '000310.jpg', '000311.jpg', '000312.jpg', '000313.jpg', '000314.jpg', '000315.jpg', '000316.jpg', '000317.jpg', '000318.jpg', '000319.jpg', '000320.jpg', '000321.jpg', '000322.jpg', '000323.jpg', '000324.jpg', '000325.jpg', '000326.jpg', '000327.jpg', '000328.jpg', '000329.jpg', '000330.jpg', '000331.jpg', '000332.jpg', '000333.jpg', '000334.jpg', '000335.jpg', '000336.jpg', '000337.jpg', '000338.jpg', '000339.jpg', '000340.jpg', '000341.jpg', '000342.jpg', '000343.jpg', '000344.jpg', '000345.jpg', '000346.jpg', '000347.jpg', '000348.jpg', '000349.jpg', '000350.jpg', '000351.jpg', '000352.jpg', '000353.jpg', '000354.jpg', '000355.jpg', '000356.jpg', '000357.jpg', '000358.jpg', '000359.jpg', '000360.jpg', '000361.jpg', '000362.jpg', '000363.jpg', '000364.jpg', '000365.jpg', '000366.jpg', '000367.jpg', '000368.jpg', '000369.jpg', '000370.jpg', '000371.jpg', '000372.jpg', '000373.jpg', '000374.jpg', '000375.jpg', '000376.jpg', '000377.jpg', '000378.jpg', '000379.jpg', '000380.jpg', '000381.jpg', '000382.jpg', '000383.jpg', '000384.jpg', '000385.jpg', '000386.jpg', '000387.jpg', '000388.jpg', '000389.jpg', '000390.jpg', '000391.jpg', '000392.jpg', '000393.jpg', '000394.jpg', '000395.jpg', '000396.jpg', '000397.jpg', '000398.jpg', '000399.jpg', '000400.jpg', '000401.jpg', '000402.jpg', '000403.jpg', '000404.jpg', '000405.jpg', '000406.jpg', '000407.jpg', '000408.jpg', '000409.jpg', '000410.jpg', '000411.jpg', '000412.jpg', '000413.jpg', '000414.jpg', '000415.jpg', '000416.jpg', '000417.jpg', '000418.jpg', '000419.jpg', '000420.jpg', '000421.jpg', '000422.jpg', '000423.jpg', '000424.jpg', '000425.jpg', '000426.jpg', '000427.jpg', '000428.jpg', '000429.jpg', '000430.jpg', '000431.jpg', '000432.jpg', '000433.jpg', '000434.jpg', '000435.jpg', '000436.jpg', '000437.jpg', '000438.jpg', '000439.jpg', '000440.jpg', '000441.jpg', '000442.jpg', '000443.jpg', '000444.jpg', '000445.jpg', '000446.jpg', '000447.jpg', '000448.jpg', '000449.jpg', '000450.jpg', '000451.jpg', '000452.jpg', '000453.jpg', '000454.jpg', '000455.jpg', '000456.jpg', '000457.jpg', '000458.jpg', '000459.jpg', '000460.jpg', '000461.jpg', '000462.jpg', '000463.jpg', '000464.jpg', '000465.jpg', '000466.jpg', '000467.jpg', '000468.jpg', '000469.jpg', '000470.jpg', '000471.jpg', '000472.jpg', '000473.jpg', '000474.jpg', '000475.jpg', '000476.jpg', '000477.jpg', '000478.jpg', '000479.jpg', '000480.jpg', '000481.jpg', '000482.jpg', '000483.jpg', '000484.jpg', '000485.jpg', '000486.jpg', '000487.jpg', '000488.jpg', '000489.jpg', '000490.jpg', '000491.jpg', '000492.jpg', '000493.jpg', '000494.jpg', '000495.jpg', '000496.jpg', '000497.jpg', '000498.jpg', '000499.jpg', '000500.jpg', '000501.jpg', '000502.jpg', '000503.jpg', '000504.jpg', '000505.jpg', '000506.jpg', '000507.jpg', '000508.jpg', '000509.jpg', '000510.jpg', '000511.jpg', '000512.jpg', '000513.jpg', '000514.jpg', '000515.jpg', '000516.jpg', '000517.jpg', '000518.jpg', '000519.jpg', '000520.jpg', '000521.jpg', '000522.jpg', '000523.jpg', '000524.jpg', '000525.jpg', '000526.jpg', '000527.jpg', '000528.jpg', '000529.jpg', '000530.jpg', '000531.jpg', '000532.jpg', '000533.jpg', '000534.jpg', '000535.jpg', '000536.jpg', '000537.jpg', '000538.jpg', '000539.jpg', '000540.jpg', '000541.jpg', '000542.jpg', '000543.jpg', '000544.jpg', '000545.jpg', '000546.jpg', '000547.jpg', '000548.jpg', '000549.jpg', '000550.jpg', '000551.jpg', '000552.jpg', '000553.jpg', '000554.jpg', '000555.jpg', '000556.jpg', '000557.jpg', '000558.jpg'])\n"
          ],
          "name": "stdout"
        }
      ]
    },
    {
      "cell_type": "markdown",
      "metadata": {
        "id": "vyvun0EH_ASw",
        "colab_type": "text"
      },
      "source": [
        ""
      ]
    },
    {
      "cell_type": "markdown",
      "metadata": {
        "id": "BwlMg3qg_jIC",
        "colab_type": "text"
      },
      "source": [
        "## Aproksymacja brakujących ramek "
      ]
    },
    {
      "cell_type": "code",
      "metadata": {
        "id": "GWV3_e0DA6DX",
        "colab_type": "code",
        "colab": {}
      },
      "source": [
        "import pandas as pd\n",
        "df = pd.DataFrame({'long': 1.,\n",
        "                    'lat': 1.,\n",
        "                    'cat': 'foo',\n",
        "                    'dist': 1.,\n",
        "                    'ROIS': 'foos',\n",
        "                   'scores': 'foo'}, index=data.keys()) "
      ],
      "execution_count": 0,
      "outputs": []
    },
    {
      "cell_type": "code",
      "metadata": {
        "id": "0k9p3lfOhQnu",
        "colab_type": "code",
        "colab": {}
      },
      "source": [
        "for name in data.keys():\n",
        "  #print(data[i]['gps'])\n",
        "  df.at[name,'long'] = data[name]['gps']['long']\n",
        "  df.at[name,'lat'] = data[name]['gps']['lat']\n",
        "  df.at[name,'scores'] = detection[name]['scores']\n",
        "  df.at[name,'cat'] = detection[name]['class_id']\n",
        "  df.at[name,'ROIS'] = detection[name]['rois']\n"
      ],
      "execution_count": 0,
      "outputs": []
    },
    {
      "cell_type": "markdown",
      "metadata": {
        "id": "epGZnddureaJ",
        "colab_type": "text"
      },
      "source": [
        "\n",
        "## Detekcja brakujacych ramek (1-3 ramek)"
      ]
    },
    {
      "cell_type": "code",
      "metadata": {
        "id": "QbRTIZ0dreM7",
        "colab_type": "code",
        "colab": {}
      },
      "source": [
        "df['pop_cat3'] = df['cat'].shift(-3)\n",
        "df['pop_cat2'] = df['cat'].shift(-2)\n",
        "df['pop_cat'] = df['cat'].shift(-1)\n",
        "\n",
        "df['next_cat'] = df['cat'].shift(1)\n",
        "df['next_cat2'] = df['cat'].shift(2)\n",
        "df['next_cat3'] = df['cat'].shift(3)\n",
        "df['next_cat4'] = df['cat'].shift(4)"
      ],
      "execution_count": 0,
      "outputs": []
    },
    {
      "cell_type": "code",
      "metadata": {
        "id": "Fiz9KbLHsMm0",
        "colab_type": "code",
        "colab": {}
      },
      "source": [
        "df.loc[df.pop_cat == df.next_cat, 'cat_det'] = df.pop_cat\n",
        "df.loc[df['cat'] != '[]', 'cat_det'] = df.cat"
      ],
      "execution_count": 0,
      "outputs": []
    },
    {
      "cell_type": "code",
      "metadata": {
        "id": "SfQcgV2sntg2",
        "colab_type": "code",
        "colab": {}
      },
      "source": [
        "ds = df.loc[(df['cat_det'] == '[]') & (df['pop_cat3'] != '[]') & (df['pop_cat2'] == '[]')].copy()\n",
        "ds = ds.drop(['long','lat','pop_cat3'],axis=1)\n",
        "df1 = df.copy()\n",
        "df1['long'] = df1['long'].shift(-3)\n",
        "df1['lat'] = df1['lat'].shift(-3)"
      ],
      "execution_count": 0,
      "outputs": []
    },
    {
      "cell_type": "markdown",
      "metadata": {
        "id": "EdHm6xc2_3Qf",
        "colab_type": "text"
      },
      "source": [
        "## Wynik detekcji"
      ]
    },
    {
      "cell_type": "code",
      "metadata": {
        "id": "hSh3iWIVyiwM",
        "colab_type": "code",
        "outputId": "e7d8723d-44ff-4b79-904b-4a7210387948",
        "colab": {
          "base_uri": "https://localhost:8080/",
          "height": 206
        }
      },
      "source": [
        "result = pd.concat([ds, df1], axis=1, join='inner')\n",
        "result2 = result.drop(['cat','dist','ROIS','scores','pop_cat2','pop_cat','next_cat','next_cat2','next_cat3','next_cat4','cat_det'], axis=1)\n",
        "result2"
      ],
      "execution_count": 0,
      "outputs": [
        {
          "output_type": "execute_result",
          "data": {
            "text/html": [
              "<div>\n",
              "<style scoped>\n",
              "    .dataframe tbody tr th:only-of-type {\n",
              "        vertical-align: middle;\n",
              "    }\n",
              "\n",
              "    .dataframe tbody tr th {\n",
              "        vertical-align: top;\n",
              "    }\n",
              "\n",
              "    .dataframe thead th {\n",
              "        text-align: right;\n",
              "    }\n",
              "</style>\n",
              "<table border=\"1\" class=\"dataframe\">\n",
              "  <thead>\n",
              "    <tr style=\"text-align: right;\">\n",
              "      <th></th>\n",
              "      <th>long</th>\n",
              "      <th>lat</th>\n",
              "      <th>pop_cat3</th>\n",
              "    </tr>\n",
              "  </thead>\n",
              "  <tbody>\n",
              "    <tr>\n",
              "      <th>000082.jpg</th>\n",
              "      <td>18.600716</td>\n",
              "      <td>54.269230</td>\n",
              "      <td>[13]</td>\n",
              "    </tr>\n",
              "    <tr>\n",
              "      <th>000338.jpg</th>\n",
              "      <td>18.562090</td>\n",
              "      <td>54.346829</td>\n",
              "      <td>[13]</td>\n",
              "    </tr>\n",
              "    <tr>\n",
              "      <th>000493.jpg</th>\n",
              "      <td>18.562090</td>\n",
              "      <td>54.346829</td>\n",
              "      <td>[39]</td>\n",
              "    </tr>\n",
              "    <tr>\n",
              "      <th>000544.jpg</th>\n",
              "      <td>18.562090</td>\n",
              "      <td>54.346829</td>\n",
              "      <td>[14]</td>\n",
              "    </tr>\n",
              "    <tr>\n",
              "      <th>000556.jpg</th>\n",
              "      <td>NaN</td>\n",
              "      <td>NaN</td>\n",
              "      <td>NaN</td>\n",
              "    </tr>\n",
              "  </tbody>\n",
              "</table>\n",
              "</div>"
            ],
            "text/plain": [
              "                 long        lat pop_cat3\n",
              "000082.jpg  18.600716  54.269230     [13]\n",
              "000338.jpg  18.562090  54.346829     [13]\n",
              "000493.jpg  18.562090  54.346829     [39]\n",
              "000544.jpg  18.562090  54.346829     [14]\n",
              "000556.jpg        NaN        NaN      NaN"
            ]
          },
          "metadata": {
            "tags": []
          },
          "execution_count": 107
        }
      ]
    },
    {
      "cell_type": "markdown",
      "metadata": {
        "id": "-zXYkJJQUxgw",
        "colab_type": "text"
      },
      "source": [
        "## Stworz Video ze zdjec / pomocnicze "
      ]
    },
    {
      "cell_type": "code",
      "metadata": {
        "id": "O0oPQXqtUct8",
        "colab_type": "code",
        "colab": {}
      },
      "source": [
        "def make_video(outvid, images=None, fps=30, size=None,\n",
        "               is_color=True, format=\"FMP4\"):\n",
        "    \"\"\"\n",
        "    Create a video from a list of images.\n",
        " \n",
        "    @param      outvid      output video\n",
        "    @param      images      list of images to use in the video\n",
        "    @param      fps         frame per second\n",
        "    @param      size        size of each frame\n",
        "    @param      is_color    color\n",
        "    @param      format      see http://www.fourcc.org/codecs.php\n",
        "    @return                 see http://opencv-python-tutroals.readthedocs.org/en/latest/py_tutorials/py_gui/py_video_display/py_video_display.html\n",
        " \n",
        "    The function relies on http://opencv-python-tutroals.readthedocs.org/en/latest/.\n",
        "    By default, the video will have the size of the first image.\n",
        "    It will resize every image to this size before adding them to the video.\n",
        "    \"\"\"\n",
        "    from cv2 import VideoWriter, VideoWriter_fourcc, imread, resize\n",
        "    fourcc = VideoWriter_fourcc(*format)\n",
        "    vid = None\n",
        "    for image in images:\n",
        "        if not os.path.exists(image):\n",
        "            raise FileNotFoundError(image)\n",
        "        img = imread(image)\n",
        "        if vid is None:\n",
        "            if size is None:\n",
        "                size = img.shape[1], img.shape[0]\n",
        "            vid = VideoWriter(outvid, fourcc, float(fps), size, is_color)\n",
        "        if size[0] != img.shape[1] and size[1] != img.shape[0]:\n",
        "            img = resize(img, size)\n",
        "        vid.write(img)\n",
        "    vid.release()\n",
        "    return vid\n",
        "\n",
        "import glob\n",
        "import os\n",
        "\n",
        "\n",
        "images = list(glob.iglob(os.path.join(TEMP_IMG_DIR, '*.*')))\n",
        "# Sort the images by integer index\n",
        "images = sorted(images, key=lambda x: float(os.path.split(x)[1][:-3]))\n",
        "\n",
        "outvid = '/content/gdrive/dataset/video_out/out.mp4'\n",
        "make_video(outvid, images, fps=30)"
      ],
      "execution_count": 0,
      "outputs": []
    },
    {
      "cell_type": "markdown",
      "metadata": {
        "id": "1XaHqBSyU4nK",
        "colab_type": "text"
      },
      "source": [
        "## Download"
      ]
    },
    {
      "cell_type": "code",
      "metadata": {
        "id": "eID-Jnr3U7bp",
        "colab_type": "code",
        "colab": {}
      },
      "source": [
        "from google.colab import files\n",
        "files.download('/content/gdrive/dataset/video_out/out.mp4')"
      ],
      "execution_count": 0,
      "outputs": []
    }
  ]
}